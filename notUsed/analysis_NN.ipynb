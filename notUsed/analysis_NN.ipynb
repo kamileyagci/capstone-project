{
 "cells": [
  {
   "cell_type": "markdown",
   "metadata": {},
   "source": [
    "# Analysis with Deep Neural Networks\n",
    "\n",
    "In this botebook, I will analyze the data using the Deep Neural Networks.\n",
    "\n",
    "## Load Libraries"
   ]
  },
  {
   "cell_type": "code",
   "execution_count": 27,
   "metadata": {},
   "outputs": [],
   "source": [
    "#pip install tensorflow"
   ]
  },
  {
   "cell_type": "code",
   "execution_count": 39,
   "metadata": {},
   "outputs": [],
   "source": [
    "# Import base libraries\n",
    "import pandas as pd\n",
    "import numpy as np\n",
    "\n",
    "import matplotlib.pyplot as plt\n",
    "%matplotlib inline\n",
    "import seaborn as sns\n",
    "\n",
    "from sklearn.model_selection import train_test_split\n",
    "from sklearn.preprocessing import StandardScaler\n",
    "\n",
    "from sklearn.metrics import classification_report\n",
    "from sklearn.metrics import confusion_matrix\n",
    "from sklearn.metrics import roc_auc_score, roc_curve, auc\n",
    "from sklearn.metrics import precision_score, recall_score, accuracy_score, f1_score\n",
    "\n",
    "import keras\n",
    "from tensorflow.keras.models import Sequential\n",
    "from tensorflow.keras.layers import Dense\n",
    "from keras import layers\n",
    "from keras import models\n",
    "from keras import optimizers\n",
    "from keras import regularizers\n",
    "\n",
    "from datetime import datetime\n",
    "\n",
    "import warnings\n",
    "warnings.filterwarnings('ignore')\n",
    "\n",
    "np.random.seed(123)"
   ]
  },
  {
   "cell_type": "code",
   "execution_count": 40,
   "metadata": {},
   "outputs": [
    {
     "data": {
      "text/html": [
       "<div>\n",
       "<style scoped>\n",
       "    .dataframe tbody tr th:only-of-type {\n",
       "        vertical-align: middle;\n",
       "    }\n",
       "\n",
       "    .dataframe tbody tr th {\n",
       "        vertical-align: top;\n",
       "    }\n",
       "\n",
       "    .dataframe thead th {\n",
       "        text-align: right;\n",
       "    }\n",
       "</style>\n",
       "<table border=\"1\" class=\"dataframe\">\n",
       "  <thead>\n",
       "    <tr style=\"text-align: right;\">\n",
       "      <th></th>\n",
       "      <th>Attr1</th>\n",
       "      <th>Attr2</th>\n",
       "      <th>Attr3</th>\n",
       "      <th>Attr4</th>\n",
       "      <th>Attr6</th>\n",
       "      <th>Attr7</th>\n",
       "      <th>Attr8</th>\n",
       "      <th>Attr9</th>\n",
       "      <th>Attr10</th>\n",
       "      <th>Attr11</th>\n",
       "      <th>...</th>\n",
       "      <th>Attr50</th>\n",
       "      <th>Attr51</th>\n",
       "      <th>Attr55</th>\n",
       "      <th>Attr56</th>\n",
       "      <th>Attr57</th>\n",
       "      <th>Attr58</th>\n",
       "      <th>Attr59</th>\n",
       "      <th>Attr62</th>\n",
       "      <th>Attr63</th>\n",
       "      <th>class</th>\n",
       "    </tr>\n",
       "  </thead>\n",
       "  <tbody>\n",
       "    <tr>\n",
       "      <th>0</th>\n",
       "      <td>0.174190</td>\n",
       "      <td>0.41299</td>\n",
       "      <td>0.14371</td>\n",
       "      <td>1.3480</td>\n",
       "      <td>0.60383</td>\n",
       "      <td>0.219460</td>\n",
       "      <td>1.1225</td>\n",
       "      <td>1.1961</td>\n",
       "      <td>0.46359</td>\n",
       "      <td>0.219460</td>\n",
       "      <td>...</td>\n",
       "      <td>1.3480</td>\n",
       "      <td>0.41299</td>\n",
       "      <td>127280.0</td>\n",
       "      <td>0.163960</td>\n",
       "      <td>0.375740</td>\n",
       "      <td>0.83604</td>\n",
       "      <td>0.000007</td>\n",
       "      <td>84.291</td>\n",
       "      <td>4.3303</td>\n",
       "      <td>0</td>\n",
       "    </tr>\n",
       "    <tr>\n",
       "      <th>1</th>\n",
       "      <td>0.146240</td>\n",
       "      <td>0.46038</td>\n",
       "      <td>0.28230</td>\n",
       "      <td>1.6294</td>\n",
       "      <td>0.00000</td>\n",
       "      <td>0.171850</td>\n",
       "      <td>1.1721</td>\n",
       "      <td>1.6018</td>\n",
       "      <td>0.53962</td>\n",
       "      <td>0.175790</td>\n",
       "      <td>...</td>\n",
       "      <td>1.5874</td>\n",
       "      <td>0.44849</td>\n",
       "      <td>3387.8</td>\n",
       "      <td>0.027516</td>\n",
       "      <td>0.271000</td>\n",
       "      <td>0.90108</td>\n",
       "      <td>0.000000</td>\n",
       "      <td>102.190</td>\n",
       "      <td>3.5716</td>\n",
       "      <td>0</td>\n",
       "    </tr>\n",
       "    <tr>\n",
       "      <th>2</th>\n",
       "      <td>0.000595</td>\n",
       "      <td>0.22612</td>\n",
       "      <td>0.48839</td>\n",
       "      <td>3.1599</td>\n",
       "      <td>0.19114</td>\n",
       "      <td>0.004572</td>\n",
       "      <td>2.9881</td>\n",
       "      <td>1.0077</td>\n",
       "      <td>0.67566</td>\n",
       "      <td>0.004572</td>\n",
       "      <td>...</td>\n",
       "      <td>3.1599</td>\n",
       "      <td>0.22612</td>\n",
       "      <td>20453.0</td>\n",
       "      <td>0.007639</td>\n",
       "      <td>0.000881</td>\n",
       "      <td>0.99236</td>\n",
       "      <td>0.000000</td>\n",
       "      <td>64.846</td>\n",
       "      <td>5.6287</td>\n",
       "      <td>0</td>\n",
       "    </tr>\n",
       "    <tr>\n",
       "      <th>3</th>\n",
       "      <td>0.024526</td>\n",
       "      <td>0.43236</td>\n",
       "      <td>0.27546</td>\n",
       "      <td>1.7833</td>\n",
       "      <td>0.56944</td>\n",
       "      <td>0.024526</td>\n",
       "      <td>1.3057</td>\n",
       "      <td>1.0509</td>\n",
       "      <td>0.56453</td>\n",
       "      <td>0.024526</td>\n",
       "      <td>...</td>\n",
       "      <td>1.4504</td>\n",
       "      <td>0.35164</td>\n",
       "      <td>5012.6</td>\n",
       "      <td>0.048398</td>\n",
       "      <td>0.043445</td>\n",
       "      <td>0.95160</td>\n",
       "      <td>0.142980</td>\n",
       "      <td>98.783</td>\n",
       "      <td>3.6950</td>\n",
       "      <td>0</td>\n",
       "    </tr>\n",
       "    <tr>\n",
       "      <th>4</th>\n",
       "      <td>0.188290</td>\n",
       "      <td>0.41504</td>\n",
       "      <td>0.34231</td>\n",
       "      <td>1.9279</td>\n",
       "      <td>0.00000</td>\n",
       "      <td>0.233580</td>\n",
       "      <td>1.4094</td>\n",
       "      <td>1.3393</td>\n",
       "      <td>0.58496</td>\n",
       "      <td>0.238810</td>\n",
       "      <td>...</td>\n",
       "      <td>1.7136</td>\n",
       "      <td>0.36891</td>\n",
       "      <td>13730.0</td>\n",
       "      <td>0.176480</td>\n",
       "      <td>0.321880</td>\n",
       "      <td>0.82635</td>\n",
       "      <td>0.073039</td>\n",
       "      <td>100.540</td>\n",
       "      <td>3.6303</td>\n",
       "      <td>0</td>\n",
       "    </tr>\n",
       "  </tbody>\n",
       "</table>\n",
       "<p>5 rows × 49 columns</p>\n",
       "</div>"
      ],
      "text/plain": [
       "      Attr1    Attr2    Attr3   Attr4    Attr6     Attr7   Attr8   Attr9  \\\n",
       "0  0.174190  0.41299  0.14371  1.3480  0.60383  0.219460  1.1225  1.1961   \n",
       "1  0.146240  0.46038  0.28230  1.6294  0.00000  0.171850  1.1721  1.6018   \n",
       "2  0.000595  0.22612  0.48839  3.1599  0.19114  0.004572  2.9881  1.0077   \n",
       "3  0.024526  0.43236  0.27546  1.7833  0.56944  0.024526  1.3057  1.0509   \n",
       "4  0.188290  0.41504  0.34231  1.9279  0.00000  0.233580  1.4094  1.3393   \n",
       "\n",
       "    Attr10    Attr11  ...  Attr50   Attr51    Attr55    Attr56    Attr57  \\\n",
       "0  0.46359  0.219460  ...  1.3480  0.41299  127280.0  0.163960  0.375740   \n",
       "1  0.53962  0.175790  ...  1.5874  0.44849    3387.8  0.027516  0.271000   \n",
       "2  0.67566  0.004572  ...  3.1599  0.22612   20453.0  0.007639  0.000881   \n",
       "3  0.56453  0.024526  ...  1.4504  0.35164    5012.6  0.048398  0.043445   \n",
       "4  0.58496  0.238810  ...  1.7136  0.36891   13730.0  0.176480  0.321880   \n",
       "\n",
       "    Attr58    Attr59   Attr62  Attr63  class  \n",
       "0  0.83604  0.000007   84.291  4.3303      0  \n",
       "1  0.90108  0.000000  102.190  3.5716      0  \n",
       "2  0.99236  0.000000   64.846  5.6287      0  \n",
       "3  0.95160  0.142980   98.783  3.6950      0  \n",
       "4  0.82635  0.073039  100.540  3.6303      0  \n",
       "\n",
       "[5 rows x 49 columns]"
      ]
     },
     "execution_count": 40,
     "metadata": {},
     "output_type": "execute_result"
    }
   ],
   "source": [
    "# Load Clean Data (no missing values)\n",
    "\n",
    "df3 = pd.read_csv('data3_noMiss.csv')\n",
    "df3.head()"
   ]
  },
  {
   "cell_type": "markdown",
   "metadata": {},
   "source": [
    "## Pre-process"
   ]
  },
  {
   "cell_type": "code",
   "execution_count": 41,
   "metadata": {},
   "outputs": [],
   "source": [
    "# Assign target and predictor\n",
    "y = df3['class']\n",
    "X = df3.drop('class', axis=1)"
   ]
  },
  {
   "cell_type": "code",
   "execution_count": 58,
   "metadata": {},
   "outputs": [
    {
     "name": "stdout",
     "output_type": "stream",
     "text": [
      "X_train shape =  (8356, 48)\n",
      "y_train shape =  (8356,)\n",
      "X_test shape =  (2089, 48)\n",
      "y_test shape =  (2089,)\n"
     ]
    }
   ],
   "source": [
    "# Sepearate data into train and test splist\n",
    "\n",
    "X_train, X_test, y_train, y_test = train_test_split(X, y, test_size=0.20, random_state=42)\n",
    "\n",
    "print('X_train shape = ', X_train.shape)\n",
    "print('y_train shape = ', y_train.shape)\n",
    "print('X_test shape = ', X_test.shape)\n",
    "print('y_test shape = ', y_test.shape)"
   ]
  },
  {
   "cell_type": "code",
   "execution_count": 62,
   "metadata": {},
   "outputs": [],
   "source": [
    "# Scale/Normalize the predictor variables\n",
    "\n",
    "scaler = StandardScaler()\n",
    "X_train = scaler.fit_transform(X_train)\n",
    "X_test = scaler.transform(X_test)\n",
    "\n",
    "y_train = y_train.to_numpy()\n",
    "y_test = y_test.to_numpy()\n",
    "\n",
    "# Convert to Dataframe\n",
    "#X_train = pd.DataFrame(X_train, columns=X.columns)\n",
    "#X_test = pd.DataFrame(X_test, columns=X.columns)\n",
    "#X_train.head()"
   ]
  },
  {
   "cell_type": "code",
   "execution_count": 65,
   "metadata": {},
   "outputs": [
    {
     "data": {
      "text/plain": [
       "numpy.ndarray"
      ]
     },
     "execution_count": 65,
     "metadata": {},
     "output_type": "execute_result"
    }
   ],
   "source": [
    "type(y_train)"
   ]
  },
  {
   "cell_type": "markdown",
   "metadata": {},
   "source": [
    "## Baseline Model - NN"
   ]
  },
  {
   "cell_type": "code",
   "execution_count": 236,
   "metadata": {},
   "outputs": [],
   "source": [
    "model_1 = Sequential()\n",
    "model_1.add(Dense(50, activation='relu', input_shape=(48,)))\n",
    "#model_1.add(Dense(50, activation='relu', kernel_regularizer=regularizers.l2(0.005), input_shape=(48,)))\n",
    "model_1.add(Dense(20, activation='relu'))\n",
    "#model_1.add(Dense(20, activation='relu', kernel_regularizer=regularizers.l2(0.005)))\n",
    "model_1.add(Dense(1, activation='sigmoid'))"
   ]
  },
  {
   "cell_type": "code",
   "execution_count": 237,
   "metadata": {},
   "outputs": [],
   "source": [
    "model_1.compile(loss='binary_crossentropy',\n",
    "                optimizer='sgd',\n",
    "                metrics=['acc'])"
   ]
  },
  {
   "cell_type": "code",
   "execution_count": 238,
   "metadata": {},
   "outputs": [
    {
     "name": "stdout",
     "output_type": "stream",
     "text": [
      "Train on 6684 samples, validate on 1672 samples\n",
      "Epoch 1/50\n",
      "6684/6684 [==============================] - 1s 156us/sample - loss: 0.7359 - acc: 0.3453 - val_loss: 0.7296 - val_acc: 0.3529\n",
      "Epoch 2/50\n",
      "6684/6684 [==============================] - 0s 19us/sample - loss: 0.7290 - acc: 0.3728 - val_loss: 0.7228 - val_acc: 0.3965\n",
      "Epoch 3/50\n",
      "6684/6684 [==============================] - 0s 20us/sample - loss: 0.7223 - acc: 0.4017 - val_loss: 0.7162 - val_acc: 0.4258\n",
      "Epoch 4/50\n",
      "6684/6684 [==============================] - 0s 21us/sample - loss: 0.7156 - acc: 0.4372 - val_loss: 0.7097 - val_acc: 0.4641\n",
      "Epoch 5/50\n",
      "6684/6684 [==============================] - 0s 20us/sample - loss: 0.7092 - acc: 0.4768 - val_loss: 0.7033 - val_acc: 0.5144\n",
      "Epoch 6/50\n",
      "6684/6684 [==============================] - 0s 20us/sample - loss: 0.7028 - acc: 0.5194 - val_loss: 0.6970 - val_acc: 0.5455\n",
      "Epoch 7/50\n",
      "6684/6684 [==============================] - 0s 20us/sample - loss: 0.6965 - acc: 0.5655 - val_loss: 0.6908 - val_acc: 0.6035\n",
      "Epoch 8/50\n",
      "6684/6684 [==============================] - 0s 21us/sample - loss: 0.6904 - acc: 0.6110 - val_loss: 0.6848 - val_acc: 0.6465\n",
      "Epoch 9/50\n",
      "6684/6684 [==============================] - 0s 21us/sample - loss: 0.6844 - acc: 0.6519 - val_loss: 0.6789 - val_acc: 0.6812\n",
      "Epoch 10/50\n",
      "6684/6684 [==============================] - 0s 20us/sample - loss: 0.6785 - acc: 0.6899 - val_loss: 0.6730 - val_acc: 0.7093\n",
      "Epoch 11/50\n",
      "6684/6684 [==============================] - 0s 20us/sample - loss: 0.6727 - acc: 0.7262 - val_loss: 0.6673 - val_acc: 0.7506\n",
      "Epoch 12/50\n",
      "6684/6684 [==============================] - 0s 28us/sample - loss: 0.6670 - acc: 0.7612 - val_loss: 0.6617 - val_acc: 0.7907\n",
      "Epoch 13/50\n",
      "6684/6684 [==============================] - 0s 36us/sample - loss: 0.6614 - acc: 0.7885 - val_loss: 0.6562 - val_acc: 0.8122\n",
      "Epoch 14/50\n",
      "6684/6684 [==============================] - 0s 23us/sample - loss: 0.6559 - acc: 0.8134 - val_loss: 0.6508 - val_acc: 0.8367\n",
      "Epoch 15/50\n",
      "6684/6684 [==============================] - 0s 32us/sample - loss: 0.6506 - acc: 0.8330 - val_loss: 0.6456 - val_acc: 0.8541\n",
      "Epoch 16/50\n",
      "6684/6684 [==============================] - 0s 18us/sample - loss: 0.6453 - acc: 0.8486 - val_loss: 0.6404 - val_acc: 0.8732\n",
      "Epoch 17/50\n",
      "6684/6684 [==============================] - 0s 21us/sample - loss: 0.6401 - acc: 0.8616 - val_loss: 0.6353 - val_acc: 0.8828\n",
      "Epoch 18/50\n",
      "6684/6684 [==============================] - 0s 23us/sample - loss: 0.6350 - acc: 0.8752 - val_loss: 0.6302 - val_acc: 0.8917\n",
      "Epoch 19/50\n",
      "6684/6684 [==============================] - 0s 32us/sample - loss: 0.6300 - acc: 0.8867 - val_loss: 0.6253 - val_acc: 0.8965\n",
      "Epoch 20/50\n",
      "6684/6684 [==============================] - 0s 30us/sample - loss: 0.6251 - acc: 0.8962 - val_loss: 0.6205 - val_acc: 0.9067\n",
      "Epoch 21/50\n",
      "6684/6684 [==============================] - 0s 29us/sample - loss: 0.6202 - acc: 0.9034 - val_loss: 0.6157 - val_acc: 0.9139\n",
      "Epoch 22/50\n",
      "6684/6684 [==============================] - 0s 30us/sample - loss: 0.6155 - acc: 0.9099 - val_loss: 0.6110 - val_acc: 0.9193\n",
      "Epoch 23/50\n",
      "6684/6684 [==============================] - 0s 28us/sample - loss: 0.6108 - acc: 0.9152 - val_loss: 0.6064 - val_acc: 0.9228\n",
      "Epoch 24/50\n",
      "6684/6684 [==============================] - 0s 24us/sample - loss: 0.6062 - acc: 0.9189 - val_loss: 0.6019 - val_acc: 0.9246\n",
      "Epoch 25/50\n",
      "6684/6684 [==============================] - 0s 35us/sample - loss: 0.6017 - acc: 0.9224 - val_loss: 0.5974 - val_acc: 0.9276\n",
      "Epoch 26/50\n",
      "6684/6684 [==============================] - 0s 20us/sample - loss: 0.5972 - acc: 0.9258 - val_loss: 0.5931 - val_acc: 0.9294\n",
      "Epoch 27/50\n",
      "6684/6684 [==============================] - 0s 22us/sample - loss: 0.5928 - acc: 0.9276 - val_loss: 0.5887 - val_acc: 0.9318\n",
      "Epoch 28/50\n",
      "6684/6684 [==============================] - 0s 29us/sample - loss: 0.5885 - acc: 0.9297 - val_loss: 0.5845 - val_acc: 0.9336\n",
      "Epoch 29/50\n",
      "6684/6684 [==============================] - 0s 28us/sample - loss: 0.5842 - acc: 0.9313 - val_loss: 0.5803 - val_acc: 0.9360\n",
      "Epoch 30/50\n",
      "6684/6684 [==============================] - 0s 32us/sample - loss: 0.5800 - acc: 0.9331 - val_loss: 0.5762 - val_acc: 0.9384\n",
      "Epoch 31/50\n",
      "6684/6684 [==============================] - 0s 27us/sample - loss: 0.5759 - acc: 0.9349 - val_loss: 0.5721 - val_acc: 0.9390\n",
      "Epoch 32/50\n",
      "6684/6684 [==============================] - 0s 31us/sample - loss: 0.5718 - acc: 0.9355 - val_loss: 0.5681 - val_acc: 0.9408\n",
      "Epoch 33/50\n",
      "6684/6684 [==============================] - 0s 25us/sample - loss: 0.5678 - acc: 0.9366 - val_loss: 0.5642 - val_acc: 0.9414\n",
      "Epoch 34/50\n",
      "6684/6684 [==============================] - 0s 31us/sample - loss: 0.5638 - acc: 0.9373 - val_loss: 0.5603 - val_acc: 0.9432\n",
      "Epoch 35/50\n",
      "6684/6684 [==============================] - 0s 32us/sample - loss: 0.5599 - acc: 0.9382 - val_loss: 0.5565 - val_acc: 0.9438\n",
      "Epoch 36/50\n",
      "6684/6684 [==============================] - 0s 35us/sample - loss: 0.5561 - acc: 0.9388 - val_loss: 0.5527 - val_acc: 0.9450\n",
      "Epoch 37/50\n",
      "6684/6684 [==============================] - 0s 18us/sample - loss: 0.5523 - acc: 0.9399 - val_loss: 0.5490 - val_acc: 0.9450\n",
      "Epoch 38/50\n",
      "6684/6684 [==============================] - 0s 17us/sample - loss: 0.5486 - acc: 0.9400 - val_loss: 0.5453 - val_acc: 0.9456\n",
      "Epoch 39/50\n",
      "6684/6684 [==============================] - 0s 17us/sample - loss: 0.5449 - acc: 0.9411 - val_loss: 0.5417 - val_acc: 0.9462\n",
      "Epoch 40/50\n",
      "6684/6684 [==============================] - 0s 19us/sample - loss: 0.5413 - acc: 0.9418 - val_loss: 0.5382 - val_acc: 0.9468\n",
      "Epoch 41/50\n",
      "6684/6684 [==============================] - 0s 29us/sample - loss: 0.5377 - acc: 0.9425 - val_loss: 0.5347 - val_acc: 0.9468\n",
      "Epoch 42/50\n",
      "6684/6684 [==============================] - 0s 27us/sample - loss: 0.5342 - acc: 0.9431 - val_loss: 0.5313 - val_acc: 0.9468\n",
      "Epoch 43/50\n",
      "6684/6684 [==============================] - 0s 29us/sample - loss: 0.5308 - acc: 0.9433 - val_loss: 0.5279 - val_acc: 0.9474\n",
      "Epoch 44/50\n",
      "6684/6684 [==============================] - 0s 29us/sample - loss: 0.5274 - acc: 0.9440 - val_loss: 0.5245 - val_acc: 0.9474\n",
      "Epoch 45/50\n",
      "6684/6684 [==============================] - 0s 28us/sample - loss: 0.5241 - acc: 0.9443 - val_loss: 0.5213 - val_acc: 0.9474\n",
      "Epoch 46/50\n",
      "6684/6684 [==============================] - 0s 29us/sample - loss: 0.5208 - acc: 0.9451 - val_loss: 0.5180 - val_acc: 0.9480\n",
      "Epoch 47/50\n",
      "6684/6684 [==============================] - 0s 25us/sample - loss: 0.5175 - acc: 0.9455 - val_loss: 0.5148 - val_acc: 0.9480\n",
      "Epoch 48/50\n",
      "6684/6684 [==============================] - 0s 28us/sample - loss: 0.5143 - acc: 0.9458 - val_loss: 0.5117 - val_acc: 0.9480\n",
      "Epoch 49/50\n",
      "6684/6684 [==============================] - 0s 18us/sample - loss: 0.5112 - acc: 0.9458 - val_loss: 0.5086 - val_acc: 0.9486\n",
      "Epoch 50/50\n",
      "6684/6684 [==============================] - 0s 19us/sample - loss: 0.5081 - acc: 0.9460 - val_loss: 0.5055 - val_acc: 0.9492\n"
     ]
    }
   ],
   "source": [
    "history_1 = model_1.fit(X_train,\n",
    "                    y_train,\n",
    "                    epochs=50,\n",
    "                    batch_size=6684,\n",
    "                    validation_split=0.20,\n",
    "                    )"
   ]
  },
  {
   "cell_type": "code",
   "execution_count": 239,
   "metadata": {},
   "outputs": [
    {
     "name": "stdout",
     "output_type": "stream",
     "text": [
      "Data 3\n",
      "\n",
      "Training Data:\n",
      "               precision    recall  f1-score   support\n",
      "\n",
      "           0       0.95      0.99      0.97      7961\n",
      "           1       0.02      0.00      0.00       395\n",
      "\n",
      "    accuracy                           0.95      8356\n",
      "   macro avg       0.49      0.50      0.49      8356\n",
      "weighted avg       0.91      0.95      0.93      8356\n",
      "\n",
      "Testing Data:\n",
      "               precision    recall  f1-score   support\n",
      "\n",
      "           0       0.95      0.99      0.97      1993\n",
      "           1       0.00      0.00      0.00        96\n",
      "\n",
      "    accuracy                           0.94      2089\n",
      "   macro avg       0.48      0.49      0.49      2089\n",
      "weighted avg       0.91      0.94      0.93      2089\n",
      "\n"
     ]
    }
   ],
   "source": [
    "y_train_pred = np.round(model_1.predict(X_train))\n",
    "y_test_pred = np.round(model_1.predict(X_test))\n",
    "\n",
    "print('Data 3\\n')\n",
    "print('Training Data:\\n', classification_report(y_train, y_train_pred))\n",
    "print('Testing Data:\\n', classification_report(y_test, y_test_pred))"
   ]
  },
  {
   "cell_type": "code",
   "execution_count": 226,
   "metadata": {},
   "outputs": [
    {
     "data": {
      "text/plain": [
       "0.0"
      ]
     },
     "execution_count": 226,
     "metadata": {},
     "output_type": "execute_result"
    }
   ],
   "source": [
    "precision_score(y_test, y_test_pred)"
   ]
  },
  {
   "cell_type": "code",
   "execution_count": 233,
   "metadata": {},
   "outputs": [],
   "source": [
    "def plot_acc_loss(history, data_number, model_title, x_min_acc=0.5, y_max_loss=1):\n",
    "    \n",
    "    acc = history.history['acc']\n",
    "    val_acc = history.history['val_acc']\n",
    "    loss = history.history['loss']\n",
    "    val_loss = history.history['val_loss']\n",
    "    epochs = range(1, len(acc)+1)\n",
    "    \n",
    "    fig, (ax1, ax2) = plt.subplots(1, 2, figsize=(20, 6))\n",
    "    \n",
    "    ax1.plot(acc, label='train')\n",
    "    ax1.plot(val_acc, label='validation')\n",
    "    ax1.set_title(f\"Accuracy for {model_title}\", fontsize=14)\n",
    "    ax1.set_xlabel('Epoch', fontsize=14)\n",
    "    #ax1.set_xticks(epochs)\n",
    "    ax1.set_ylabel('Accuracy', fontsize=14)\n",
    "    ax1.set_ylim([x_min_acc, 1.1])\n",
    "    ax1.legend(fontsize=14)\n",
    "    \n",
    "    ax2.plot(loss, label='train')\n",
    "    ax2.plot(val_loss, label='validation')\n",
    "    ax2.set_title(f\"Loss for {model_title}\", fontsize=14)\n",
    "    ax2.set_xlabel('Epoch', fontsize=14)\n",
    "    #ax2.set_xticks(epochs)\n",
    "    ax2.set_ylabel('Loss', fontsize=14)\n",
    "    ax2.set_ylim([0, y_max_loss])\n",
    "    ax2.legend(fontsize=14)\n",
    "    \n",
    "    plt.savefig(f'figures/data{data_number}_{model_title}_acc_loss_plot.png')"
   ]
  },
  {
   "cell_type": "code",
   "execution_count": 241,
   "metadata": {},
   "outputs": [
    {
     "data": {
      "image/png": "[encoded data removed]",
      "text/plain": [
       "<Figure size 1440x432 with 2 Axes>"
      ]
     },
     "metadata": {
      "needs_background": "light"
     },
     "output_type": "display_data"
    }
   ],
   "source": [
    "plot_acc_loss(history_1, 3, 'NN_baseline', 0)"
   ]
  },
  {
   "cell_type": "code",
   "execution_count": null,
   "metadata": {},
   "outputs": [],
   "source": []
  }
 ],
 "metadata": {
  "kernelspec": {
   "display_name": "Python 3",
   "language": "python",
   "name": "python3"
  },
  "language_info": {
   "codemirror_mode": {
    "name": "ipython",
    "version": 3
   },
   "file_extension": ".py",
   "mimetype": "text/x-python",
   "name": "python",
   "nbconvert_exporter": "python",
   "pygments_lexer": "ipython3",
   "version": "3.8.3"
  }
 },
 "nbformat": 4,
 "nbformat_minor": 2
}
