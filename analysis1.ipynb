{
 "cells": [
  {
   "cell_type": "markdown",
   "metadata": {},
   "source": [
    "# Analysis with Ensemble Methods\n",
    "\n",
    "In this botebook, I will anlyze the data using the Decision Trees.\n",
    "\n",
    "## Load Libraries"
   ]
  },
  {
   "cell_type": "code",
   "execution_count": 194,
   "metadata": {},
   "outputs": [],
   "source": [
    "# Import base libraries\n",
    "import pandas as pd\n",
    "import numpy as np\n",
    "\n",
    "import matplotlib.pyplot as plt\n",
    "%matplotlib inline\n",
    "import seaborn as sns\n",
    "\n",
    "from sklearn.model_selection import train_test_split\n",
    "from sklearn.preprocessing import StandardScaler\n",
    "from imblearn.over_sampling import SMOTE\n",
    "from sklearn.linear_model import LogisticRegression\n",
    "from sklearn.tree import DecisionTreeClassifier\n",
    "from sklearn.ensemble import RandomForestClassifier\n",
    "from xgboost import XGBClassifier\n",
    "import xgboost as xgb\n",
    "from sklearn.model_selection import GridSearchCV\n",
    "from sklearn.metrics import classification_report\n",
    "from sklearn.metrics import confusion_matrix\n",
    "\n",
    "from datetime import datetime\n",
    "\n",
    "from sklearn.metrics import roc_auc_score, roc_curve, auc\n",
    "from sklearn.metrics import precision_score, recall_score, accuracy_score, f1_score\n",
    "\n",
    "import warnings\n",
    "warnings.filterwarnings('ignore')"
   ]
  },
  {
   "cell_type": "markdown",
   "metadata": {},
   "source": [
    "## Load Data\n",
    "\n",
    "There are five data files: \n",
    "    * data1, 1year.arff \n",
    "    * data2, 2year.arff \n",
    "    * data3, 3year.arff\n",
    "    * data4, 4year.arff\n",
    "    * data5, 5year.arff\n",
    "\n",
    "Initially, I will explore the models on data3. After determing the final model design, I will apply it on other datasets and compare te results.\n",
    "\n",
    "I will use previously cleaned data, where missing values are handled.\n"
   ]
  },
  {
   "cell_type": "code",
   "execution_count": 180,
   "metadata": {},
   "outputs": [
    {
     "data": {
      "text/html": [
       "<div>\n",
       "<style scoped>\n",
       "    .dataframe tbody tr th:only-of-type {\n",
       "        vertical-align: middle;\n",
       "    }\n",
       "\n",
       "    .dataframe tbody tr th {\n",
       "        vertical-align: top;\n",
       "    }\n",
       "\n",
       "    .dataframe thead th {\n",
       "        text-align: right;\n",
       "    }\n",
       "</style>\n",
       "<table border=\"1\" class=\"dataframe\">\n",
       "  <thead>\n",
       "    <tr style=\"text-align: right;\">\n",
       "      <th></th>\n",
       "      <th>Attr1</th>\n",
       "      <th>Attr2</th>\n",
       "      <th>Attr3</th>\n",
       "      <th>Attr4</th>\n",
       "      <th>Attr6</th>\n",
       "      <th>Attr7</th>\n",
       "      <th>Attr8</th>\n",
       "      <th>Attr9</th>\n",
       "      <th>Attr10</th>\n",
       "      <th>Attr11</th>\n",
       "      <th>...</th>\n",
       "      <th>Attr50</th>\n",
       "      <th>Attr51</th>\n",
       "      <th>Attr55</th>\n",
       "      <th>Attr56</th>\n",
       "      <th>Attr57</th>\n",
       "      <th>Attr58</th>\n",
       "      <th>Attr59</th>\n",
       "      <th>Attr62</th>\n",
       "      <th>Attr63</th>\n",
       "      <th>class</th>\n",
       "    </tr>\n",
       "  </thead>\n",
       "  <tbody>\n",
       "    <tr>\n",
       "      <th>0</th>\n",
       "      <td>0.174190</td>\n",
       "      <td>0.41299</td>\n",
       "      <td>0.14371</td>\n",
       "      <td>1.3480</td>\n",
       "      <td>0.60383</td>\n",
       "      <td>0.219460</td>\n",
       "      <td>1.1225</td>\n",
       "      <td>1.1961</td>\n",
       "      <td>0.46359</td>\n",
       "      <td>0.219460</td>\n",
       "      <td>...</td>\n",
       "      <td>1.3480</td>\n",
       "      <td>0.41299</td>\n",
       "      <td>127280.0</td>\n",
       "      <td>0.163960</td>\n",
       "      <td>0.375740</td>\n",
       "      <td>0.83604</td>\n",
       "      <td>0.000007</td>\n",
       "      <td>84.291</td>\n",
       "      <td>4.3303</td>\n",
       "      <td>0</td>\n",
       "    </tr>\n",
       "    <tr>\n",
       "      <th>1</th>\n",
       "      <td>0.146240</td>\n",
       "      <td>0.46038</td>\n",
       "      <td>0.28230</td>\n",
       "      <td>1.6294</td>\n",
       "      <td>0.00000</td>\n",
       "      <td>0.171850</td>\n",
       "      <td>1.1721</td>\n",
       "      <td>1.6018</td>\n",
       "      <td>0.53962</td>\n",
       "      <td>0.175790</td>\n",
       "      <td>...</td>\n",
       "      <td>1.5874</td>\n",
       "      <td>0.44849</td>\n",
       "      <td>3387.8</td>\n",
       "      <td>0.027516</td>\n",
       "      <td>0.271000</td>\n",
       "      <td>0.90108</td>\n",
       "      <td>0.000000</td>\n",
       "      <td>102.190</td>\n",
       "      <td>3.5716</td>\n",
       "      <td>0</td>\n",
       "    </tr>\n",
       "    <tr>\n",
       "      <th>2</th>\n",
       "      <td>0.000595</td>\n",
       "      <td>0.22612</td>\n",
       "      <td>0.48839</td>\n",
       "      <td>3.1599</td>\n",
       "      <td>0.19114</td>\n",
       "      <td>0.004572</td>\n",
       "      <td>2.9881</td>\n",
       "      <td>1.0077</td>\n",
       "      <td>0.67566</td>\n",
       "      <td>0.004572</td>\n",
       "      <td>...</td>\n",
       "      <td>3.1599</td>\n",
       "      <td>0.22612</td>\n",
       "      <td>20453.0</td>\n",
       "      <td>0.007639</td>\n",
       "      <td>0.000881</td>\n",
       "      <td>0.99236</td>\n",
       "      <td>0.000000</td>\n",
       "      <td>64.846</td>\n",
       "      <td>5.6287</td>\n",
       "      <td>0</td>\n",
       "    </tr>\n",
       "    <tr>\n",
       "      <th>3</th>\n",
       "      <td>0.024526</td>\n",
       "      <td>0.43236</td>\n",
       "      <td>0.27546</td>\n",
       "      <td>1.7833</td>\n",
       "      <td>0.56944</td>\n",
       "      <td>0.024526</td>\n",
       "      <td>1.3057</td>\n",
       "      <td>1.0509</td>\n",
       "      <td>0.56453</td>\n",
       "      <td>0.024526</td>\n",
       "      <td>...</td>\n",
       "      <td>1.4504</td>\n",
       "      <td>0.35164</td>\n",
       "      <td>5012.6</td>\n",
       "      <td>0.048398</td>\n",
       "      <td>0.043445</td>\n",
       "      <td>0.95160</td>\n",
       "      <td>0.142980</td>\n",
       "      <td>98.783</td>\n",
       "      <td>3.6950</td>\n",
       "      <td>0</td>\n",
       "    </tr>\n",
       "    <tr>\n",
       "      <th>4</th>\n",
       "      <td>0.188290</td>\n",
       "      <td>0.41504</td>\n",
       "      <td>0.34231</td>\n",
       "      <td>1.9279</td>\n",
       "      <td>0.00000</td>\n",
       "      <td>0.233580</td>\n",
       "      <td>1.4094</td>\n",
       "      <td>1.3393</td>\n",
       "      <td>0.58496</td>\n",
       "      <td>0.238810</td>\n",
       "      <td>...</td>\n",
       "      <td>1.7136</td>\n",
       "      <td>0.36891</td>\n",
       "      <td>13730.0</td>\n",
       "      <td>0.176480</td>\n",
       "      <td>0.321880</td>\n",
       "      <td>0.82635</td>\n",
       "      <td>0.073039</td>\n",
       "      <td>100.540</td>\n",
       "      <td>3.6303</td>\n",
       "      <td>0</td>\n",
       "    </tr>\n",
       "  </tbody>\n",
       "</table>\n",
       "<p>5 rows × 49 columns</p>\n",
       "</div>"
      ],
      "text/plain": [
       "      Attr1    Attr2    Attr3   Attr4    Attr6     Attr7   Attr8   Attr9  \\\n",
       "0  0.174190  0.41299  0.14371  1.3480  0.60383  0.219460  1.1225  1.1961   \n",
       "1  0.146240  0.46038  0.28230  1.6294  0.00000  0.171850  1.1721  1.6018   \n",
       "2  0.000595  0.22612  0.48839  3.1599  0.19114  0.004572  2.9881  1.0077   \n",
       "3  0.024526  0.43236  0.27546  1.7833  0.56944  0.024526  1.3057  1.0509   \n",
       "4  0.188290  0.41504  0.34231  1.9279  0.00000  0.233580  1.4094  1.3393   \n",
       "\n",
       "    Attr10    Attr11  ...  Attr50   Attr51    Attr55    Attr56    Attr57  \\\n",
       "0  0.46359  0.219460  ...  1.3480  0.41299  127280.0  0.163960  0.375740   \n",
       "1  0.53962  0.175790  ...  1.5874  0.44849    3387.8  0.027516  0.271000   \n",
       "2  0.67566  0.004572  ...  3.1599  0.22612   20453.0  0.007639  0.000881   \n",
       "3  0.56453  0.024526  ...  1.4504  0.35164    5012.6  0.048398  0.043445   \n",
       "4  0.58496  0.238810  ...  1.7136  0.36891   13730.0  0.176480  0.321880   \n",
       "\n",
       "    Attr58    Attr59   Attr62  Attr63  class  \n",
       "0  0.83604  0.000007   84.291  4.3303      0  \n",
       "1  0.90108  0.000000  102.190  3.5716      0  \n",
       "2  0.99236  0.000000   64.846  5.6287      0  \n",
       "3  0.95160  0.142980   98.783  3.6950      0  \n",
       "4  0.82635  0.073039  100.540  3.6303      0  \n",
       "\n",
       "[5 rows x 49 columns]"
      ]
     },
     "execution_count": 180,
     "metadata": {},
     "output_type": "execute_result"
    }
   ],
   "source": [
    "# Load Clean Data (no missing values, no outliers)\n",
    "\n",
    "df3 = pd.read_csv('data/data3_noMiss.csv')\n",
    "df3.head()"
   ]
  },
  {
   "cell_type": "code",
   "execution_count": 181,
   "metadata": {},
   "outputs": [
    {
     "data": {
      "text/plain": [
       "(10445, 49)"
      ]
     },
     "execution_count": 181,
     "metadata": {},
     "output_type": "execute_result"
    }
   ],
   "source": [
    "df3.shape"
   ]
  },
  {
   "cell_type": "markdown",
   "metadata": {},
   "source": [
    "## Pre-process"
   ]
  },
  {
   "cell_type": "code",
   "execution_count": 182,
   "metadata": {},
   "outputs": [],
   "source": [
    "# Assign target and predictor\n",
    "y = df3['class']\n",
    "X = df3.drop('class', axis=1)"
   ]
  },
  {
   "cell_type": "code",
   "execution_count": 183,
   "metadata": {},
   "outputs": [
    {
     "name": "stdout",
     "output_type": "stream",
     "text": [
      "X_train shape =  (8356, 48)\n",
      "y_train shape =  (8356,)\n",
      "X_test shape =  (2089, 48)\n",
      "y_test shape =  (2089,)\n"
     ]
    }
   ],
   "source": [
    "# Sepearate data into train and test splist\n",
    "\n",
    "X_train, X_test, y_train, y_test = train_test_split(X, y, test_size=0.20, random_state=42)\n",
    "\n",
    "print('X_train shape = ', X_train.shape)\n",
    "print('y_train shape = ', y_train.shape)\n",
    "print('X_test shape = ', X_test.shape)\n",
    "print('y_test shape = ', y_test.shape)"
   ]
  },
  {
   "cell_type": "code",
   "execution_count": 184,
   "metadata": {},
   "outputs": [],
   "source": [
    "# Scale/Normalize the predictor variables\n",
    "\n",
    "scaler = StandardScaler()\n",
    "X_train = scaler.fit_transform(X_train)\n",
    "X_test = scaler.transform(X_test)\n",
    "\n",
    "# Convert to Dataframe\n",
    "#X_train = pd.DataFrame(X_train, columns=X.columns)\n",
    "#X_test = pd.DataFrame(X_test, columns=X.columns)\n",
    "#X_train.head()"
   ]
  },
  {
   "cell_type": "markdown",
   "metadata": {},
   "source": [
    "### Class imbalance and Resampling"
   ]
  },
  {
   "cell_type": "code",
   "execution_count": 185,
   "metadata": {},
   "outputs": [
    {
     "name": "stdout",
     "output_type": "stream",
     "text": [
      "Original whole data class distribution:\n",
      "0    9954\n",
      "1     491\n",
      "Name: class, dtype: int64\n",
      "Original whole data class distribution, normalized:\n",
      "0    0.952992\n",
      "1    0.047008\n",
      "Name: class, dtype: float64\n"
     ]
    }
   ],
   "source": [
    "print('Original whole data class distribution:')\n",
    "print(y.value_counts())\n",
    "print('Original whole data class distribution, normalized:')\n",
    "print(y.value_counts(normalize=True))"
   ]
  },
  {
   "cell_type": "code",
   "execution_count": 186,
   "metadata": {},
   "outputs": [
    {
     "name": "stdout",
     "output_type": "stream",
     "text": [
      "Original training data class distribution:\n",
      "0    7961\n",
      "1     395\n",
      "Name: class, dtype: int64\n",
      "Synthetic training data class distribution:\n",
      "1    7961\n",
      "0    7961\n",
      "dtype: int64\n"
     ]
    }
   ],
   "source": [
    "#Resample\n",
    "\n",
    "smote = SMOTE()\n",
    "X_train_rs, y_train_rs = smote.fit_resample(X_train, y_train)\n",
    "\n",
    "print('Original training data class distribution:')\n",
    "print(y_train.value_counts())\n",
    "\n",
    "print('Synthetic training data class distribution:')\n",
    "print(pd.Series(y_train_rs).value_counts())"
   ]
  },
  {
   "cell_type": "markdown",
   "metadata": {},
   "source": [
    "## Baseline Model - XGBoost"
   ]
  },
  {
   "cell_type": "code",
   "execution_count": 197,
   "metadata": {},
   "outputs": [
    {
     "name": "stdout",
     "output_type": "stream",
     "text": [
      "Data3, resampled training:\n",
      "\n",
      "Training Data:\n",
      "               precision    recall  f1-score   support\n",
      "\n",
      "           0       0.92      0.83      0.87      7961\n",
      "           1       0.85      0.93      0.89      7961\n",
      "\n",
      "    accuracy                           0.88     15922\n",
      "   macro avg       0.88      0.88      0.88     15922\n",
      "weighted avg       0.88      0.88      0.88     15922\n",
      "\n",
      "Testing Data:\n",
      "               precision    recall  f1-score   support\n",
      "\n",
      "           0       0.98      0.81      0.88      1993\n",
      "           1       0.12      0.57      0.20        96\n",
      "\n",
      "    accuracy                           0.80      2089\n",
      "   macro avg       0.55      0.69      0.54      2089\n",
      "weighted avg       0.94      0.80      0.85      2089\n",
      "\n"
     ]
    }
   ],
   "source": [
    "# Instantiate, fit XGBClassifier on resampled data\n",
    "\n",
    "xgb = XGBClassifier(random_state=42, eval_metric='logloss') #'logloss' is default, but specified to stop warning\n",
    "xgb.fit(X_train_rs, y_train_rs)\n",
    "\n",
    "print('Data3, resampled training:\\n')\n",
    "print('Training Data:\\n', classification_report(y_train_rs, xgb.predict(X_train_rs)))\n",
    "print('Testing Data:\\n', classification_report(y_test, xgb.predict(X_test)))"
   ]
  },
  {
   "cell_type": "code",
   "execution_count": 227,
   "metadata": {},
   "outputs": [
    {
     "data": {
      "text/plain": [
       "0.8471951359412642"
      ]
     },
     "execution_count": 227,
     "metadata": {},
     "output_type": "execute_result"
    }
   ],
   "source": [
    "precision_score(y_train_rs, xgb.predict(X_train_rs), pos_label=1)"
   ]
  },
  {
   "cell_type": "code",
   "execution_count": 226,
   "metadata": {},
   "outputs": [
    {
     "data": {
      "text/plain": [
       "0.9200555170020819"
      ]
     },
     "execution_count": 226,
     "metadata": {},
     "output_type": "execute_result"
    }
   ],
   "source": [
    "precision_score(y_train_rs, xgb.predict(X_train_rs), pos_label=0)"
   ]
  },
  {
   "cell_type": "code",
   "execution_count": 223,
   "metadata": {},
   "outputs": [],
   "source": [
    "# Function for drawing ROC curve for train and test data\n",
    "\n",
    "def ROC_curve_train(model, model_name, pos_label):\n",
    "\n",
    "    fig, ax = plt.subplots(figsize=(10, 8))\n",
    "\n",
    "    #model.fit(X_train_rs, y_train_rs)\n",
    "    \n",
    "    \n",
    "    y_train_pred = model.predict(X_train_rs)   \n",
    "    y_train_prob = model.predict_proba(X_train_rs) #Probability estimates for each class\n",
    "    fpr_train, tpr_train, thresholds_train = roc_curve(y_train_rs, y_train_prob[:,1], pos_label)\n",
    "    auc_train = round(auc(fpr_train, tpr_train, pos_label),3)\n",
    "    f1_train = round(f1_score(y_train_rs, y_train_pred, pos_label),3)\n",
    "    recall_train = round(recall_score(y_train_rs, y_train_pred, pos_label),3)\n",
    "    precision_train = round(precision_score(y_train_rs, y_train_pred, pos_label),3)\n",
    "    ax.plot(fpr_train, tpr_train, lw=2, label=f'Train: precison={precision_train}, recall={recall_train}, f1={f1_train}, AUC={auc_train}')\n",
    "    #ax.plot(fpr_train, tpr_train, lw=2, label=f'Train: AUC={auc_train}')\n",
    "    \n",
    "    y_test_pred = model.predict(X_test)\n",
    "    y_test_prob = model.predict_proba(X_test) #Probability estimates for each class\n",
    "    fpr_test, tpr_test, thresholds_test = roc_curve(y_test, y_test_prob[:,1], pos_label)\n",
    "    auc_test = round(auc(fpr_test, tpr_test, pos_label),3)\n",
    "    f1_test = round(f1_score(y_test, y_test_pred, pos_label),3)\n",
    "    recall_test = round(recall_score(y_test, y_test_pred, pos_label),3)\n",
    "    precision_test = round(precision_score(y_test, y_test_pred, pos_label),3)\n",
    "    ax.plot(fpr_test, tpr_test, lw=2, label=f'Test: precison={precision_test}, recall={recall_test}, f1={f1_test}, AUC={auc_test}')\n",
    "    #ax.plot(fpr_test, tpr_test, lw=2, label=f'Test: AUC={auc_test}')\n",
    "    \n",
    "    ax.plot([0, 1], [0, 1], color='navy', lw=2, linestyle='--')\n",
    "    ax.set_xlim([0.0, 1.0])\n",
    "    ax.set_ylim([0.0, 1.05])\n",
    "    ax.set_yticks([i/20.0 for i in range(21)])\n",
    "    ax.set_xticks([i/20.0 for i in range(21)])\n",
    "    ax.set_xlabel('False Positive Rate', fontsize=14)\n",
    "    ax.set_ylabel('True Positive Rate', fontsize=14)\n",
    "    ax.set_title(f'ROC Curve for {model_name}, class={pos_label}', fontsize=14)\n",
    "    ax.legend(loc='auto', fontsize=14)\n",
    "    \n",
    "    plt.savefig(f'figures/ROC_Curve_{model_name}_class{pos_label}.png')\n"
   ]
  },
  {
   "cell_type": "code",
   "execution_count": 224,
   "metadata": {},
   "outputs": [
    {
     "data": {
      "image/png": "[encoded data removed]",
      "text/plain": [
       "<Figure size 720x576 with 1 Axes>"
      ]
     },
     "metadata": {
      "needs_background": "light"
     },
     "output_type": "display_data"
    }
   ],
   "source": [
    "ROC_curve_train(xgb, 'XGBoost', 0)"
   ]
  },
  {
   "cell_type": "code",
   "execution_count": 225,
   "metadata": {},
   "outputs": [
    {
     "data": {
      "image/png": "[encoded data removed]",
      "text/plain": [
       "<Figure size 720x576 with 1 Axes>"
      ]
     },
     "metadata": {
      "needs_background": "light"
     },
     "output_type": "display_data"
    }
   ],
   "source": [
    "ROC_curve_train(xgb, 'XGBoost', 1)"
   ]
  },
  {
   "cell_type": "code",
   "execution_count": null,
   "metadata": {},
   "outputs": [],
   "source": []
  },
  {
   "cell_type": "code",
   "execution_count": null,
   "metadata": {},
   "outputs": [],
   "source": []
  },
  {
   "cell_type": "markdown",
   "metadata": {},
   "source": [
    "**Comments**\n",
    "\n",
    "* Overall, the baseline model performance is not very good. There is a huge overfitting.\n",
    "* The model performance in identfying the non-bankruptcy companies (class 0) is good. \n",
    "* However, model fails to identify the bankruptcy companies (class 1)."
   ]
  },
  {
   "cell_type": "markdown",
   "metadata": {},
   "source": [
    "### Data after Ouliers removed\n",
    "\n",
    "At this point, it is not clear to me how significant outliers for the classification. \n",
    "Therefore, I would like to see the performance of the model after removing outliers."
   ]
  },
  {
   "cell_type": "code",
   "execution_count": 188,
   "metadata": {},
   "outputs": [],
   "source": [
    "df3_noOut = pd.read_csv('data/data3_noMiss_noOut.csv')\n",
    "\n",
    "y_noOut = df3_noOut['class']\n",
    "X_noOut = df3_noOut.drop('class', axis=1)\n",
    "\n",
    "X_train_noOut, X_test_noOut, y_train_noOut, y_test_noOut = train_test_split(X_noOut, y_noOut, test_size=0.20, \n",
    "                                                                            random_state=42)\n",
    "\n",
    "scaler_noOut = StandardScaler()\n",
    "X_train_noOut = scaler_noOut.fit_transform(X_train_noOut)\n",
    "X_test_noOut = scaler_noOut.transform(X_test_noOut)\n",
    "\n",
    "smote_noOut = SMOTE()\n",
    "X_train_rs_noOut, y_train_rs_noOut = smote_noOut.fit_resample(X_train_noOut, y_train_noOut)"
   ]
  },
  {
   "cell_type": "code",
   "execution_count": 189,
   "metadata": {},
   "outputs": [
    {
     "name": "stdout",
     "output_type": "stream",
     "text": [
      "Data3, resampled training, Outliers removed:\n",
      "\n",
      "Training Data:\n",
      "               precision    recall  f1-score   support\n",
      "\n",
      "           0       0.90      0.82      0.86      7627\n",
      "           1       0.84      0.91      0.87      7627\n",
      "\n",
      "    accuracy                           0.87     15254\n",
      "   macro avg       0.87      0.87      0.87     15254\n",
      "weighted avg       0.87      0.87      0.87     15254\n",
      "\n",
      "Testing Data:\n",
      "               precision    recall  f1-score   support\n",
      "\n",
      "           0       0.98      0.82      0.89      1901\n",
      "           1       0.15      0.61      0.24        98\n",
      "\n",
      "    accuracy                           0.81      1999\n",
      "   macro avg       0.56      0.71      0.56      1999\n",
      "weighted avg       0.94      0.81      0.86      1999\n",
      "\n"
     ]
    }
   ],
   "source": [
    "xgb_noOut = XGBClassifier(random_state=42, eval_metric='logloss')\n",
    "xgb_noOut.fit(X_train_rs_noOut, y_train_rs_noOut)\n",
    "\n",
    "print('Data3, resampled training, Outliers removed:\\n')\n",
    "print('Training Data:\\n', classification_report(y_train_rs_noOut, xgb_noOut.predict(X_train_rs_noOut)))\n",
    "print('Testing Data:\\n', classification_report(y_test_noOut, xgb_noOut.predict(X_test_noOut)))"
   ]
  },
  {
   "cell_type": "markdown",
   "metadata": {},
   "source": [
    "**Comments**\n",
    "* Removing outliers decreased the overfitting a bit.\n",
    "* Increased the overall performance on testing data a little.\n",
    "* I decided not to remove the outliers in my analysis. I will leave the model to handle the outliers."
   ]
  },
  {
   "cell_type": "markdown",
   "metadata": {},
   "source": [
    "## Parameter Tuning XGBoost\n",
    "\n",
    "I will use GridSearchCV to determine the optimum parameters.\n",
    "\n",
    "I will use scoring 'f1' for tuning."
   ]
  },
  {
   "cell_type": "code",
   "execution_count": 192,
   "metadata": {},
   "outputs": [
    {
     "name": "stdout",
     "output_type": "stream",
     "text": [
      "Data 3, XGboost, Parameter Tuning Results:\n",
      "\n",
      "Best Parameter Combination: {'learning_rate': 0.2, 'max_depth': 6, 'min_child_weight': 1, 'n_estimators': 100, 'subsample': 0.7}\n",
      "Training Data:\n",
      "               precision    recall  f1-score   support\n",
      "\n",
      "           0       1.00      1.00      1.00      7961\n",
      "           1       1.00      1.00      1.00      7961\n",
      "\n",
      "    accuracy                           1.00     15922\n",
      "   macro avg       1.00      1.00      1.00     15922\n",
      "weighted avg       1.00      1.00      1.00     15922\n",
      "\n",
      "Testing Data:\n",
      "               precision    recall  f1-score   support\n",
      "\n",
      "           0       0.97      0.95      0.96      1993\n",
      "           1       0.25      0.33      0.29        96\n",
      "\n",
      "    accuracy                           0.92      2089\n",
      "   macro avg       0.61      0.64      0.62      2089\n",
      "weighted avg       0.93      0.92      0.93      2089\n",
      "\n",
      "Process time: 0:28:50.349067\n"
     ]
    }
   ],
   "source": [
    "# Tuning XGBClassifier with GridSearchCV\n",
    "\n",
    "start=datetime.now()\n",
    "\n",
    "xgb_param_grid = {\n",
    "    'learning_rate': [0.1, 0.2],\n",
    "    'max_depth': [2, 3, 4, 5, 6],\n",
    "    'min_child_weight': [1, 2],\n",
    "    'subsample': [0.5, 0.7],\n",
    "    'n_estimators': [30, 100],\n",
    "}\n",
    "\n",
    "xgb_gs = GridSearchCV(xgb, xgb_param_grid, cv=5, scoring='f1')\n",
    "xgb_gs.fit(X_train_rs, y_train_rs)\n",
    "\n",
    "print('Data 3, XGboost, Parameter Tuning Results:\\n')\n",
    "print(\"Best Parameter Combination:\", xgb_gs.best_params_)\n",
    "print('Training Data:\\n', classification_report(y_train_rs, xgb_gs.predict(X_train_rs)))\n",
    "print('Testing Data:\\n', classification_report(y_test, xgb_gs.predict(X_test)))\n",
    "\n",
    "end=datetime.now()\n",
    "\n",
    "print('Process time:', end-start)"
   ]
  },
  {
   "cell_type": "markdown",
   "metadata": {},
   "source": [
    "**Comments**\n",
    "* Model performance is improved.\n",
    "* The overfitting is very high. "
   ]
  },
  {
   "cell_type": "code",
   "execution_count": null,
   "metadata": {},
   "outputs": [],
   "source": []
  }
 ],
 "metadata": {
  "kernelspec": {
   "display_name": "Python 3",
   "language": "python",
   "name": "python3"
  },
  "language_info": {
   "codemirror_mode": {
    "name": "ipython",
    "version": 3
   },
   "file_extension": ".py",
   "mimetype": "text/x-python",
   "name": "python",
   "nbconvert_exporter": "python",
   "pygments_lexer": "ipython3",
   "version": "3.6.9"
  }
 },
 "nbformat": 4,
 "nbformat_minor": 4
}
