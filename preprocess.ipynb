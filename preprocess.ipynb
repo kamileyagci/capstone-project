{
 "cells": [
  {
   "cell_type": "markdown",
   "metadata": {},
   "source": [
    "## Data Preprocess"
   ]
  },
  {
   "cell_type": "markdown",
   "metadata": {},
   "source": [
    "### Polish companies bankruptcy data Data Set\n",
    "\n",
    "https://archive.ics.uci.edu/ml/datasets/Polish+companies+bankruptcy+data\n",
    "\n",
    "**Abstract:** \n",
    "\n",
    "The dataset is about bankruptcy prediction of Polish companies.The bankrupt companies were analyzed in the period 2000-2012, while the still operating companies were evaluated from 2007 to 2013.\n",
    "\n",
    "**Source:** \n",
    "\n",
    "Creator: Sebastian Tomczak\n",
    "-- Department of Operations Research, WrocÅ‚aw University of Science and Technology, wybrzeÅ¼e WyspiaÅ„skiego 27, 50-370, WrocÅ‚aw, Poland\n",
    "\n",
    "Donor: Sebastian Tomczak (sebastian.tomczak '@' pwr.edu.pl), Maciej Zieba (maciej.zieba '@' pwr.edu.pl), Jakub M. Tomczak (jakub.tomczak '@' pwr.edu.pl), Tel. (+48) 71 320 44 53\n",
    "\n",
    "**Data Set Information:**\n",
    "\n",
    "The dataset is about bankruptcy prediction of Polish companies. The data was collected from Emerging Markets Information Service (EMIS, [Web Link]), which is a database containing information on emerging markets around the world. The bankrupt companies were analyzed in the period 2000-2012, while the still operating companies were evaluated from 2007 to 2013.\n",
    "Basing on the collected data five classification cases were distinguished, that depends on the forecasting period:\n",
    "- 1stYear â€“ the data contains financial rates from 1st year of the forecasting period and corresponding class label that indicates bankruptcy status after 5 years. The data contains 7027 instances (financial statements), 271 represents bankrupted companies, 6756 firms that did not bankrupt in the forecasting period.\n",
    "- 2ndYear â€“ the data contains financial rates from 2nd year of the forecasting period and corresponding class label that indicates bankruptcy status after 4 years. The data contains 10173 instances (financial statements), 400 represents bankrupted companies, 9773 firms that did not bankrupt in the forecasting period.\n",
    "- 3rdYear â€“ the data contains financial rates from 3rd year of the forecasting period and corresponding class label that indicates bankruptcy status after 3 years. The data contains 10503 instances (financial statements), 495 represents bankrupted companies, 10008 firms that did not bankrupt in the forecasting period.\n",
    "- 4thYear â€“ the data contains financial rates from 4th year of the forecasting period and corresponding class label that indicates bankruptcy status after 2 years. The data contains 9792 instances (financial statements), 515 represents bankrupted companies, 9277 firms that did not bankrupt in the forecasting period.\n",
    "- 5thYear â€“ the data contains financial rates from 5th year of the forecasting period and corresponding class label that indicates bankruptcy status after 1 year. The data contains 5910 instances (financial statements), 410 represents bankrupted companies, 5500 firms that did not bankrupt in the forecasting period.\n",
    "\n",
    "\n",
    "**Attribute Information:**\n",
    "\n",
    "* X1 net profit / total assets\n",
    "* X2 total liabilities / total assets\n",
    "* X3 working capital / total assets\n",
    "* X4 current assets / short-term liabilities\n",
    "* X5 [(cash + short-term securities + receivables - short-term liabilities) / (operating expenses - depreciation)] * 365\n",
    "* X6 retained earnings / total assets\n",
    "* X7 EBIT / total assets\n",
    "* X8 book value of equity / total liabilities\n",
    "* X9 sales / total assets\n",
    "* X10 equity / total assets\n",
    "* X11 (gross profit + extraordinary items + financial expenses) / total assets\n",
    "* X12 gross profit / short-term liabilities\n",
    "* X13 (gross profit + depreciation) / sales\n",
    "* X14 (gross profit + interest) / total assets\n",
    "* X15 (total liabilities * 365) / (gross profit + depreciation)\n",
    "* X16 (gross profit + depreciation) / total liabilities\n",
    "* X17 total assets / total liabilities\n",
    "* X18 gross profit / total assets\n",
    "* X19 gross profit / sales\n",
    "* X20 (inventory * 365) / sales\n",
    "* X21 sales (n) / sales (n-1)\n",
    "* X22 profit on operating activities / total assets\n",
    "* X23 net profit / sales\n",
    "* X24 gross profit (in 3 years) / total assets\n",
    "* X25 (equity - share capital) / total assets\n",
    "* X26 (net profit + depreciation) / total liabilities\n",
    "* X27 profit on operating activities / financial expenses\n",
    "* X28 working capital / fixed assets\n",
    "* X29 logarithm of total assets\n",
    "* X30 (total liabilities - cash) / sales\n",
    "* X31 (gross profit + interest) / sales\n",
    "* X32 (current liabilities * 365) / cost of products sold\n",
    "* X33 operating expenses / short-term liabilities\n",
    "* X34 operating expenses / total liabilities\n",
    "* X35 profit on sales / total assets\n",
    "* X36 total sales / total assets\n",
    "* X37 (current assets - inventories) / long-term liabilities\n",
    "* X38 constant capital / total assets\n",
    "* X39 profit on sales / sales\n",
    "* X40 (current assets - inventory - receivables) / short-term liabilities\n",
    "* X41 total liabilities / ((profit on operating activities + depreciation) * (12/365))\n",
    "* X42 profit on operating activities / sales\n",
    "* X43 rotation receivables + inventory turnover in days\n",
    "* X44 (receivables * 365) / sales\n",
    "* X45 net profit / inventory\n",
    "* X46 (current assets - inventory) / short-term liabilities\n",
    "* X47 (inventory * 365) / cost of products sold\n",
    "* X48 EBITDA (profit on operating activities - depreciation) / total assets\n",
    "* X49 EBITDA (profit on operating activities - depreciation) / sales\n",
    "* X50 current assets / total liabilities\n",
    "* X51 short-term liabilities / total assets\n",
    "* X52 (short-term liabilities * 365) / cost of products sold)\n",
    "* X53 equity / fixed assets\n",
    "* X54 constant capital / fixed assets\n",
    "* X55 working capital\n",
    "* X56 (sales - cost of products sold) / sales\n",
    "* X57 (current assets - inventory - short-term liabilities) / (sales - gross profit - depreciation)\n",
    "* X58 total costs /total sales\n",
    "* X59 long-term liabilities / equity\n",
    "* X60 sales / inventory\n",
    "* X61 sales / receivables\n",
    "* X62 (short-term liabilities *365) / sales\n",
    "* X63 sales / short-term liabilities\n",
    "* X64 sales / fixed assets\n",
    "\n",
    "\n",
    "**Relevant Papers:**\n",
    "\n",
    "Zieba, M., Tomczak, S. K., & Tomczak, J. M. (2016). Ensemble Boosted Trees with Synthetic Features Generation in Application to Bankruptcy Prediction. Expert Systems with Applications. [Web Link]"
   ]
  },
  {
   "cell_type": "code",
   "execution_count": 107,
   "metadata": {},
   "outputs": [],
   "source": [
    "# Import base libraries\n",
    "import pandas as pd\n",
    "from scipy.io import arff\n",
    "import numpy as np\n",
    "\n",
    "import matplotlib.pyplot as plt\n",
    "%matplotlib inline\n",
    "import seaborn as sns"
   ]
  },
  {
   "cell_type": "markdown",
   "metadata": {},
   "source": [
    "### Load Data"
   ]
  },
  {
   "cell_type": "code",
   "execution_count": 348,
   "metadata": {},
   "outputs": [
    {
     "data": {
      "text/html": [
       "<div>\n",
       "<style scoped>\n",
       "    .dataframe tbody tr th:only-of-type {\n",
       "        vertical-align: middle;\n",
       "    }\n",
       "\n",
       "    .dataframe tbody tr th {\n",
       "        vertical-align: top;\n",
       "    }\n",
       "\n",
       "    .dataframe thead th {\n",
       "        text-align: right;\n",
       "    }\n",
       "</style>\n",
       "<table border=\"1\" class=\"dataframe\">\n",
       "  <thead>\n",
       "    <tr style=\"text-align: right;\">\n",
       "      <th></th>\n",
       "      <th>Attr1</th>\n",
       "      <th>Attr2</th>\n",
       "      <th>Attr3</th>\n",
       "      <th>Attr4</th>\n",
       "      <th>Attr5</th>\n",
       "      <th>Attr6</th>\n",
       "      <th>Attr7</th>\n",
       "      <th>Attr8</th>\n",
       "      <th>Attr9</th>\n",
       "      <th>Attr10</th>\n",
       "      <th>...</th>\n",
       "      <th>Attr56</th>\n",
       "      <th>Attr57</th>\n",
       "      <th>Attr58</th>\n",
       "      <th>Attr59</th>\n",
       "      <th>Attr60</th>\n",
       "      <th>Attr61</th>\n",
       "      <th>Attr62</th>\n",
       "      <th>Attr63</th>\n",
       "      <th>Attr64</th>\n",
       "      <th>class</th>\n",
       "    </tr>\n",
       "  </thead>\n",
       "  <tbody>\n",
       "    <tr>\n",
       "      <th>7007</th>\n",
       "      <td>0.038665</td>\n",
       "      <td>0.071884</td>\n",
       "      <td>0.488840</td>\n",
       "      <td>7.80040</td>\n",
       "      <td>221.0100</td>\n",
       "      <td>0.038665</td>\n",
       "      <td>0.045892</td>\n",
       "      <td>11.068000</td>\n",
       "      <td>1.07650</td>\n",
       "      <td>0.795600</td>\n",
       "      <td>...</td>\n",
       "      <td>0.071070</td>\n",
       "      <td>0.048599</td>\n",
       "      <td>0.92893</td>\n",
       "      <td>0.000000</td>\n",
       "      <td>2.1470</td>\n",
       "      <td>1.4679</td>\n",
       "      <td>53.735</td>\n",
       "      <td>6.7926</td>\n",
       "      <td>1.11160</td>\n",
       "      <td>b'1'</td>\n",
       "    </tr>\n",
       "    <tr>\n",
       "      <th>7008</th>\n",
       "      <td>0.001091</td>\n",
       "      <td>0.851600</td>\n",
       "      <td>0.003463</td>\n",
       "      <td>1.00860</td>\n",
       "      <td>-44.4670</td>\n",
       "      <td>0.086248</td>\n",
       "      <td>0.001091</td>\n",
       "      <td>0.174290</td>\n",
       "      <td>1.02970</td>\n",
       "      <td>0.148420</td>\n",
       "      <td>...</td>\n",
       "      <td>-0.198900</td>\n",
       "      <td>0.007349</td>\n",
       "      <td>0.97403</td>\n",
       "      <td>2.033100</td>\n",
       "      <td>6.8515</td>\n",
       "      <td>4.1096</td>\n",
       "      <td>142.830</td>\n",
       "      <td>2.5556</td>\n",
       "      <td>1.73460</td>\n",
       "      <td>b'1'</td>\n",
       "    </tr>\n",
       "    <tr>\n",
       "      <th>7009</th>\n",
       "      <td>-0.091442</td>\n",
       "      <td>0.705500</td>\n",
       "      <td>-0.047216</td>\n",
       "      <td>0.92568</td>\n",
       "      <td>-7.2952</td>\n",
       "      <td>0.000000</td>\n",
       "      <td>-0.090374</td>\n",
       "      <td>0.417440</td>\n",
       "      <td>9.13450</td>\n",
       "      <td>0.294500</td>\n",
       "      <td>...</td>\n",
       "      <td>0.000966</td>\n",
       "      <td>-0.310490</td>\n",
       "      <td>1.00740</td>\n",
       "      <td>0.077583</td>\n",
       "      <td>72.8930</td>\n",
       "      <td>20.7900</td>\n",
       "      <td>25.384</td>\n",
       "      <td>14.3790</td>\n",
       "      <td>22.18000</td>\n",
       "      <td>b'1'</td>\n",
       "    </tr>\n",
       "    <tr>\n",
       "      <th>7010</th>\n",
       "      <td>0.138090</td>\n",
       "      <td>3.335700</td>\n",
       "      <td>-2.364000</td>\n",
       "      <td>0.29128</td>\n",
       "      <td>-88.3820</td>\n",
       "      <td>-3.396300</td>\n",
       "      <td>0.138090</td>\n",
       "      <td>-0.700210</td>\n",
       "      <td>9.98520</td>\n",
       "      <td>-2.335700</td>\n",
       "      <td>...</td>\n",
       "      <td>0.011347</td>\n",
       "      <td>-0.059122</td>\n",
       "      <td>0.97866</td>\n",
       "      <td>0.000000</td>\n",
       "      <td>231.9000</td>\n",
       "      <td>12.6510</td>\n",
       "      <td>121.930</td>\n",
       "      <td>2.9935</td>\n",
       "      <td>351.85000</td>\n",
       "      <td>b'1'</td>\n",
       "    </tr>\n",
       "    <tr>\n",
       "      <th>7011</th>\n",
       "      <td>0.098271</td>\n",
       "      <td>0.833300</td>\n",
       "      <td>0.000426</td>\n",
       "      <td>1.00050</td>\n",
       "      <td>-43.1910</td>\n",
       "      <td>0.000000</td>\n",
       "      <td>0.128380</td>\n",
       "      <td>0.200190</td>\n",
       "      <td>2.51440</td>\n",
       "      <td>0.166820</td>\n",
       "      <td>...</td>\n",
       "      <td>0.150320</td>\n",
       "      <td>0.589090</td>\n",
       "      <td>0.85877</td>\n",
       "      <td>0.000000</td>\n",
       "      <td>9.2728</td>\n",
       "      <td>4.9207</td>\n",
       "      <td>116.480</td>\n",
       "      <td>3.1336</td>\n",
       "      <td>12.74800</td>\n",
       "      <td>b'1'</td>\n",
       "    </tr>\n",
       "    <tr>\n",
       "      <th>7012</th>\n",
       "      <td>0.006404</td>\n",
       "      <td>0.674770</td>\n",
       "      <td>-0.008438</td>\n",
       "      <td>0.98668</td>\n",
       "      <td>-45.5990</td>\n",
       "      <td>0.000000</td>\n",
       "      <td>0.009958</td>\n",
       "      <td>0.482000</td>\n",
       "      <td>1.91090</td>\n",
       "      <td>0.325230</td>\n",
       "      <td>...</td>\n",
       "      <td>0.180200</td>\n",
       "      <td>0.019690</td>\n",
       "      <td>0.81928</td>\n",
       "      <td>0.000000</td>\n",
       "      <td>8.9144</td>\n",
       "      <td>4.9967</td>\n",
       "      <td>121.000</td>\n",
       "      <td>3.0164</td>\n",
       "      <td>5.09650</td>\n",
       "      <td>b'1'</td>\n",
       "    </tr>\n",
       "    <tr>\n",
       "      <th>7013</th>\n",
       "      <td>0.037953</td>\n",
       "      <td>0.122390</td>\n",
       "      <td>0.230840</td>\n",
       "      <td>2.88600</td>\n",
       "      <td>19.5810</td>\n",
       "      <td>0.037953</td>\n",
       "      <td>0.040082</td>\n",
       "      <td>6.886400</td>\n",
       "      <td>0.98825</td>\n",
       "      <td>0.842840</td>\n",
       "      <td>...</td>\n",
       "      <td>-0.011887</td>\n",
       "      <td>0.045030</td>\n",
       "      <td>1.01190</td>\n",
       "      <td>0.000000</td>\n",
       "      <td>3.8809</td>\n",
       "      <td>34.6410</td>\n",
       "      <td>60.060</td>\n",
       "      <td>6.0773</td>\n",
       "      <td>1.15040</td>\n",
       "      <td>b'1'</td>\n",
       "    </tr>\n",
       "    <tr>\n",
       "      <th>7014</th>\n",
       "      <td>0.161170</td>\n",
       "      <td>0.072135</td>\n",
       "      <td>0.636490</td>\n",
       "      <td>12.02500</td>\n",
       "      <td>178.9000</td>\n",
       "      <td>0.000000</td>\n",
       "      <td>0.199860</td>\n",
       "      <td>12.863000</td>\n",
       "      <td>1.29080</td>\n",
       "      <td>0.927860</td>\n",
       "      <td>...</td>\n",
       "      <td>0.150780</td>\n",
       "      <td>0.173710</td>\n",
       "      <td>0.84152</td>\n",
       "      <td>0.000000</td>\n",
       "      <td>12.2700</td>\n",
       "      <td>6.3165</td>\n",
       "      <td>16.325</td>\n",
       "      <td>22.3580</td>\n",
       "      <td>4.22300</td>\n",
       "      <td>b'1'</td>\n",
       "    </tr>\n",
       "    <tr>\n",
       "      <th>7015</th>\n",
       "      <td>0.019432</td>\n",
       "      <td>0.616330</td>\n",
       "      <td>0.057718</td>\n",
       "      <td>1.10620</td>\n",
       "      <td>-162.8800</td>\n",
       "      <td>0.019432</td>\n",
       "      <td>0.008018</td>\n",
       "      <td>-0.232850</td>\n",
       "      <td>1.06560</td>\n",
       "      <td>-0.143510</td>\n",
       "      <td>...</td>\n",
       "      <td>0.061544</td>\n",
       "      <td>-0.135400</td>\n",
       "      <td>0.93846</td>\n",
       "      <td>-0.508510</td>\n",
       "      <td>2.1849</td>\n",
       "      <td>16.6580</td>\n",
       "      <td>179.330</td>\n",
       "      <td>2.0354</td>\n",
       "      <td>2.77270</td>\n",
       "      <td>b'1'</td>\n",
       "    </tr>\n",
       "    <tr>\n",
       "      <th>7016</th>\n",
       "      <td>0.022707</td>\n",
       "      <td>0.598550</td>\n",
       "      <td>-0.152680</td>\n",
       "      <td>0.65004</td>\n",
       "      <td>-55.4880</td>\n",
       "      <td>0.022707</td>\n",
       "      <td>0.023087</td>\n",
       "      <td>0.666780</td>\n",
       "      <td>0.99912</td>\n",
       "      <td>0.399100</td>\n",
       "      <td>...</td>\n",
       "      <td>-0.000878</td>\n",
       "      <td>0.056896</td>\n",
       "      <td>1.00090</td>\n",
       "      <td>0.406580</td>\n",
       "      <td>15.1100</td>\n",
       "      <td>13.1450</td>\n",
       "      <td>83.398</td>\n",
       "      <td>4.3766</td>\n",
       "      <td>2.66530</td>\n",
       "      <td>b'1'</td>\n",
       "    </tr>\n",
       "    <tr>\n",
       "      <th>7017</th>\n",
       "      <td>0.015903</td>\n",
       "      <td>0.730140</td>\n",
       "      <td>0.083767</td>\n",
       "      <td>1.28650</td>\n",
       "      <td>-19.8070</td>\n",
       "      <td>0.000000</td>\n",
       "      <td>0.020462</td>\n",
       "      <td>0.369610</td>\n",
       "      <td>2.19550</td>\n",
       "      <td>0.269860</td>\n",
       "      <td>...</td>\n",
       "      <td>0.031304</td>\n",
       "      <td>0.058928</td>\n",
       "      <td>1.00160</td>\n",
       "      <td>1.470900</td>\n",
       "      <td>11.0380</td>\n",
       "      <td>12.5620</td>\n",
       "      <td>48.600</td>\n",
       "      <td>7.5102</td>\n",
       "      <td>3.51900</td>\n",
       "      <td>b'1'</td>\n",
       "    </tr>\n",
       "    <tr>\n",
       "      <th>7018</th>\n",
       "      <td>-0.051896</td>\n",
       "      <td>0.536300</td>\n",
       "      <td>0.054014</td>\n",
       "      <td>1.10610</td>\n",
       "      <td>-9.7422</td>\n",
       "      <td>-0.051896</td>\n",
       "      <td>-0.051896</td>\n",
       "      <td>0.686440</td>\n",
       "      <td>0.98574</td>\n",
       "      <td>0.368140</td>\n",
       "      <td>...</td>\n",
       "      <td>-0.014470</td>\n",
       "      <td>-0.140970</td>\n",
       "      <td>1.01450</td>\n",
       "      <td>0.073630</td>\n",
       "      <td>21.6900</td>\n",
       "      <td>13.7120</td>\n",
       "      <td>66.224</td>\n",
       "      <td>5.5116</td>\n",
       "      <td>6.42520</td>\n",
       "      <td>b'1'</td>\n",
       "    </tr>\n",
       "    <tr>\n",
       "      <th>7019</th>\n",
       "      <td>-0.031617</td>\n",
       "      <td>0.811750</td>\n",
       "      <td>-0.202300</td>\n",
       "      <td>0.61087</td>\n",
       "      <td>-44.0110</td>\n",
       "      <td>0.000000</td>\n",
       "      <td>-0.031617</td>\n",
       "      <td>0.231900</td>\n",
       "      <td>3.03470</td>\n",
       "      <td>0.188250</td>\n",
       "      <td>...</td>\n",
       "      <td>0.018387</td>\n",
       "      <td>-0.167950</td>\n",
       "      <td>0.98125</td>\n",
       "      <td>1.101500</td>\n",
       "      <td>20.3810</td>\n",
       "      <td>20.3950</td>\n",
       "      <td>62.529</td>\n",
       "      <td>5.8373</td>\n",
       "      <td>4.44690</td>\n",
       "      <td>b'1'</td>\n",
       "    </tr>\n",
       "    <tr>\n",
       "      <th>7020</th>\n",
       "      <td>0.025664</td>\n",
       "      <td>0.762040</td>\n",
       "      <td>0.091220</td>\n",
       "      <td>1.12630</td>\n",
       "      <td>-62.1550</td>\n",
       "      <td>0.025664</td>\n",
       "      <td>0.037809</td>\n",
       "      <td>0.213700</td>\n",
       "      <td>1.06870</td>\n",
       "      <td>0.162850</td>\n",
       "      <td>...</td>\n",
       "      <td>0.064291</td>\n",
       "      <td>0.157590</td>\n",
       "      <td>0.93571</td>\n",
       "      <td>0.245150</td>\n",
       "      <td>4.8872</td>\n",
       "      <td>3.6692</td>\n",
       "      <td>158.210</td>\n",
       "      <td>2.3071</td>\n",
       "      <td>8.92490</td>\n",
       "      <td>b'1'</td>\n",
       "    </tr>\n",
       "    <tr>\n",
       "      <th>7021</th>\n",
       "      <td>0.069049</td>\n",
       "      <td>0.682320</td>\n",
       "      <td>0.069829</td>\n",
       "      <td>1.12710</td>\n",
       "      <td>-54.5330</td>\n",
       "      <td>0.069049</td>\n",
       "      <td>0.075024</td>\n",
       "      <td>0.424540</td>\n",
       "      <td>1.05380</td>\n",
       "      <td>0.289670</td>\n",
       "      <td>...</td>\n",
       "      <td>0.051048</td>\n",
       "      <td>0.238370</td>\n",
       "      <td>0.94895</td>\n",
       "      <td>0.458290</td>\n",
       "      <td>5.5224</td>\n",
       "      <td>3.9048</td>\n",
       "      <td>145.400</td>\n",
       "      <td>2.5104</td>\n",
       "      <td>3.62500</td>\n",
       "      <td>b'1'</td>\n",
       "    </tr>\n",
       "    <tr>\n",
       "      <th>7022</th>\n",
       "      <td>0.018371</td>\n",
       "      <td>0.474100</td>\n",
       "      <td>-0.136190</td>\n",
       "      <td>0.60839</td>\n",
       "      <td>-18.4490</td>\n",
       "      <td>0.018371</td>\n",
       "      <td>0.018371</td>\n",
       "      <td>0.972030</td>\n",
       "      <td>1.01210</td>\n",
       "      <td>0.460840</td>\n",
       "      <td>...</td>\n",
       "      <td>0.011909</td>\n",
       "      <td>0.039866</td>\n",
       "      <td>0.98809</td>\n",
       "      <td>0.274140</td>\n",
       "      <td>73.5050</td>\n",
       "      <td>79.2370</td>\n",
       "      <td>31.268</td>\n",
       "      <td>11.6730</td>\n",
       "      <td>5.14890</td>\n",
       "      <td>b'1'</td>\n",
       "    </tr>\n",
       "    <tr>\n",
       "      <th>7023</th>\n",
       "      <td>-0.013359</td>\n",
       "      <td>0.583540</td>\n",
       "      <td>-0.022650</td>\n",
       "      <td>0.92896</td>\n",
       "      <td>-42.2320</td>\n",
       "      <td>-0.013359</td>\n",
       "      <td>-0.015036</td>\n",
       "      <td>0.562890</td>\n",
       "      <td>0.98904</td>\n",
       "      <td>0.328470</td>\n",
       "      <td>...</td>\n",
       "      <td>-0.011082</td>\n",
       "      <td>-0.040671</td>\n",
       "      <td>1.01110</td>\n",
       "      <td>0.805920</td>\n",
       "      <td>10.5990</td>\n",
       "      <td>7.1740</td>\n",
       "      <td>94.092</td>\n",
       "      <td>3.8792</td>\n",
       "      <td>1.75720</td>\n",
       "      <td>b'1'</td>\n",
       "    </tr>\n",
       "    <tr>\n",
       "      <th>7024</th>\n",
       "      <td>0.006338</td>\n",
       "      <td>0.502760</td>\n",
       "      <td>0.439230</td>\n",
       "      <td>1.87360</td>\n",
       "      <td>9.7417</td>\n",
       "      <td>0.006338</td>\n",
       "      <td>0.012022</td>\n",
       "      <td>0.983560</td>\n",
       "      <td>1.00830</td>\n",
       "      <td>0.494490</td>\n",
       "      <td>...</td>\n",
       "      <td>0.008258</td>\n",
       "      <td>0.012817</td>\n",
       "      <td>0.99174</td>\n",
       "      <td>0.000000</td>\n",
       "      <td>10.4700</td>\n",
       "      <td>6.0759</td>\n",
       "      <td>51.019</td>\n",
       "      <td>7.1542</td>\n",
       "      <td>62.00100</td>\n",
       "      <td>b'1'</td>\n",
       "    </tr>\n",
       "    <tr>\n",
       "      <th>7025</th>\n",
       "      <td>-0.041643</td>\n",
       "      <td>0.848100</td>\n",
       "      <td>-0.128520</td>\n",
       "      <td>0.57485</td>\n",
       "      <td>-121.9200</td>\n",
       "      <td>0.000000</td>\n",
       "      <td>-0.036795</td>\n",
       "      <td>0.179010</td>\n",
       "      <td>0.42138</td>\n",
       "      <td>0.151820</td>\n",
       "      <td>...</td>\n",
       "      <td>-0.232720</td>\n",
       "      <td>-0.274290</td>\n",
       "      <td>0.98788</td>\n",
       "      <td>3.593100</td>\n",
       "      <td>39.7030</td>\n",
       "      <td>3.1420</td>\n",
       "      <td>261.850</td>\n",
       "      <td>1.3939</td>\n",
       "      <td>0.51005</td>\n",
       "      <td>b'1'</td>\n",
       "    </tr>\n",
       "    <tr>\n",
       "      <th>7026</th>\n",
       "      <td>0.014946</td>\n",
       "      <td>0.946480</td>\n",
       "      <td>0.032110</td>\n",
       "      <td>1.03630</td>\n",
       "      <td>-20.5810</td>\n",
       "      <td>0.000000</td>\n",
       "      <td>0.015260</td>\n",
       "      <td>0.056357</td>\n",
       "      <td>2.96940</td>\n",
       "      <td>0.053341</td>\n",
       "      <td>...</td>\n",
       "      <td>0.015705</td>\n",
       "      <td>0.280210</td>\n",
       "      <td>0.97443</td>\n",
       "      <td>1.179200</td>\n",
       "      <td>15.0360</td>\n",
       "      <td>4.1741</td>\n",
       "      <td>108.640</td>\n",
       "      <td>3.3599</td>\n",
       "      <td>35.11800</td>\n",
       "      <td>b'1'</td>\n",
       "    </tr>\n",
       "  </tbody>\n",
       "</table>\n",
       "<p>20 rows × 65 columns</p>\n",
       "</div>"
      ],
      "text/plain": [
       "         Attr1     Attr2     Attr3     Attr4     Attr5     Attr6     Attr7  \\\n",
       "7007  0.038665  0.071884  0.488840   7.80040  221.0100  0.038665  0.045892   \n",
       "7008  0.001091  0.851600  0.003463   1.00860  -44.4670  0.086248  0.001091   \n",
       "7009 -0.091442  0.705500 -0.047216   0.92568   -7.2952  0.000000 -0.090374   \n",
       "7010  0.138090  3.335700 -2.364000   0.29128  -88.3820 -3.396300  0.138090   \n",
       "7011  0.098271  0.833300  0.000426   1.00050  -43.1910  0.000000  0.128380   \n",
       "7012  0.006404  0.674770 -0.008438   0.98668  -45.5990  0.000000  0.009958   \n",
       "7013  0.037953  0.122390  0.230840   2.88600   19.5810  0.037953  0.040082   \n",
       "7014  0.161170  0.072135  0.636490  12.02500  178.9000  0.000000  0.199860   \n",
       "7015  0.019432  0.616330  0.057718   1.10620 -162.8800  0.019432  0.008018   \n",
       "7016  0.022707  0.598550 -0.152680   0.65004  -55.4880  0.022707  0.023087   \n",
       "7017  0.015903  0.730140  0.083767   1.28650  -19.8070  0.000000  0.020462   \n",
       "7018 -0.051896  0.536300  0.054014   1.10610   -9.7422 -0.051896 -0.051896   \n",
       "7019 -0.031617  0.811750 -0.202300   0.61087  -44.0110  0.000000 -0.031617   \n",
       "7020  0.025664  0.762040  0.091220   1.12630  -62.1550  0.025664  0.037809   \n",
       "7021  0.069049  0.682320  0.069829   1.12710  -54.5330  0.069049  0.075024   \n",
       "7022  0.018371  0.474100 -0.136190   0.60839  -18.4490  0.018371  0.018371   \n",
       "7023 -0.013359  0.583540 -0.022650   0.92896  -42.2320 -0.013359 -0.015036   \n",
       "7024  0.006338  0.502760  0.439230   1.87360    9.7417  0.006338  0.012022   \n",
       "7025 -0.041643  0.848100 -0.128520   0.57485 -121.9200  0.000000 -0.036795   \n",
       "7026  0.014946  0.946480  0.032110   1.03630  -20.5810  0.000000  0.015260   \n",
       "\n",
       "          Attr8    Attr9    Attr10  ...    Attr56    Attr57   Attr58  \\\n",
       "7007  11.068000  1.07650  0.795600  ...  0.071070  0.048599  0.92893   \n",
       "7008   0.174290  1.02970  0.148420  ... -0.198900  0.007349  0.97403   \n",
       "7009   0.417440  9.13450  0.294500  ...  0.000966 -0.310490  1.00740   \n",
       "7010  -0.700210  9.98520 -2.335700  ...  0.011347 -0.059122  0.97866   \n",
       "7011   0.200190  2.51440  0.166820  ...  0.150320  0.589090  0.85877   \n",
       "7012   0.482000  1.91090  0.325230  ...  0.180200  0.019690  0.81928   \n",
       "7013   6.886400  0.98825  0.842840  ... -0.011887  0.045030  1.01190   \n",
       "7014  12.863000  1.29080  0.927860  ...  0.150780  0.173710  0.84152   \n",
       "7015  -0.232850  1.06560 -0.143510  ...  0.061544 -0.135400  0.93846   \n",
       "7016   0.666780  0.99912  0.399100  ... -0.000878  0.056896  1.00090   \n",
       "7017   0.369610  2.19550  0.269860  ...  0.031304  0.058928  1.00160   \n",
       "7018   0.686440  0.98574  0.368140  ... -0.014470 -0.140970  1.01450   \n",
       "7019   0.231900  3.03470  0.188250  ...  0.018387 -0.167950  0.98125   \n",
       "7020   0.213700  1.06870  0.162850  ...  0.064291  0.157590  0.93571   \n",
       "7021   0.424540  1.05380  0.289670  ...  0.051048  0.238370  0.94895   \n",
       "7022   0.972030  1.01210  0.460840  ...  0.011909  0.039866  0.98809   \n",
       "7023   0.562890  0.98904  0.328470  ... -0.011082 -0.040671  1.01110   \n",
       "7024   0.983560  1.00830  0.494490  ...  0.008258  0.012817  0.99174   \n",
       "7025   0.179010  0.42138  0.151820  ... -0.232720 -0.274290  0.98788   \n",
       "7026   0.056357  2.96940  0.053341  ...  0.015705  0.280210  0.97443   \n",
       "\n",
       "        Attr59    Attr60   Attr61   Attr62   Attr63     Attr64  class  \n",
       "7007  0.000000    2.1470   1.4679   53.735   6.7926    1.11160   b'1'  \n",
       "7008  2.033100    6.8515   4.1096  142.830   2.5556    1.73460   b'1'  \n",
       "7009  0.077583   72.8930  20.7900   25.384  14.3790   22.18000   b'1'  \n",
       "7010  0.000000  231.9000  12.6510  121.930   2.9935  351.85000   b'1'  \n",
       "7011  0.000000    9.2728   4.9207  116.480   3.1336   12.74800   b'1'  \n",
       "7012  0.000000    8.9144   4.9967  121.000   3.0164    5.09650   b'1'  \n",
       "7013  0.000000    3.8809  34.6410   60.060   6.0773    1.15040   b'1'  \n",
       "7014  0.000000   12.2700   6.3165   16.325  22.3580    4.22300   b'1'  \n",
       "7015 -0.508510    2.1849  16.6580  179.330   2.0354    2.77270   b'1'  \n",
       "7016  0.406580   15.1100  13.1450   83.398   4.3766    2.66530   b'1'  \n",
       "7017  1.470900   11.0380  12.5620   48.600   7.5102    3.51900   b'1'  \n",
       "7018  0.073630   21.6900  13.7120   66.224   5.5116    6.42520   b'1'  \n",
       "7019  1.101500   20.3810  20.3950   62.529   5.8373    4.44690   b'1'  \n",
       "7020  0.245150    4.8872   3.6692  158.210   2.3071    8.92490   b'1'  \n",
       "7021  0.458290    5.5224   3.9048  145.400   2.5104    3.62500   b'1'  \n",
       "7022  0.274140   73.5050  79.2370   31.268  11.6730    5.14890   b'1'  \n",
       "7023  0.805920   10.5990   7.1740   94.092   3.8792    1.75720   b'1'  \n",
       "7024  0.000000   10.4700   6.0759   51.019   7.1542   62.00100   b'1'  \n",
       "7025  3.593100   39.7030   3.1420  261.850   1.3939    0.51005   b'1'  \n",
       "7026  1.179200   15.0360   4.1741  108.640   3.3599   35.11800   b'1'  \n",
       "\n",
       "[20 rows x 65 columns]"
      ]
     },
     "execution_count": 348,
     "metadata": {},
     "output_type": "execute_result"
    }
   ],
   "source": [
    "data1 = arff.loadarff('data/1year.arff')\n",
    "df1 = pd.DataFrame(data1[0])\n",
    "\n",
    "df1.tail(20)"
   ]
  },
  {
   "cell_type": "code",
   "execution_count": 187,
   "metadata": {},
   "outputs": [
    {
     "name": "stdout",
     "output_type": "stream",
     "text": [
      "<class 'pandas.core.frame.DataFrame'>\n",
      "RangeIndex: 7027 entries, 0 to 7026\n",
      "Data columns (total 65 columns):\n",
      " #   Column  Non-Null Count  Dtype  \n",
      "---  ------  --------------  -----  \n",
      " 0   Attr1   7024 non-null   float64\n",
      " 1   Attr2   7024 non-null   float64\n",
      " 2   Attr3   7024 non-null   float64\n",
      " 3   Attr4   6997 non-null   float64\n",
      " 4   Attr5   7019 non-null   float64\n",
      " 5   Attr6   7024 non-null   float64\n",
      " 6   Attr7   7024 non-null   float64\n",
      " 7   Attr8   7002 non-null   float64\n",
      " 8   Attr9   7026 non-null   float64\n",
      " 9   Attr10  7024 non-null   float64\n",
      " 10  Attr11  6988 non-null   float64\n",
      " 11  Attr12  6997 non-null   float64\n",
      " 12  Attr13  7027 non-null   float64\n",
      " 13  Attr14  7024 non-null   float64\n",
      " 14  Attr15  7025 non-null   float64\n",
      " 15  Attr16  7002 non-null   float64\n",
      " 16  Attr17  7002 non-null   float64\n",
      " 17  Attr18  7024 non-null   float64\n",
      " 18  Attr19  7027 non-null   float64\n",
      " 19  Attr20  7027 non-null   float64\n",
      " 20  Attr21  5405 non-null   float64\n",
      " 21  Attr22  7024 non-null   float64\n",
      " 22  Attr23  7027 non-null   float64\n",
      " 23  Attr24  6903 non-null   float64\n",
      " 24  Attr25  7024 non-null   float64\n",
      " 25  Attr26  7002 non-null   float64\n",
      " 26  Attr27  6716 non-null   float64\n",
      " 27  Attr28  6993 non-null   float64\n",
      " 28  Attr29  7024 non-null   float64\n",
      " 29  Attr30  7027 non-null   float64\n",
      " 30  Attr31  7027 non-null   float64\n",
      " 31  Attr32  6989 non-null   float64\n",
      " 32  Attr33  6997 non-null   float64\n",
      " 33  Attr34  7002 non-null   float64\n",
      " 34  Attr35  7024 non-null   float64\n",
      " 35  Attr36  7024 non-null   float64\n",
      " 36  Attr37  4287 non-null   float64\n",
      " 37  Attr38  7024 non-null   float64\n",
      " 38  Attr39  7027 non-null   float64\n",
      " 39  Attr40  6997 non-null   float64\n",
      " 40  Attr41  6943 non-null   float64\n",
      " 41  Attr42  7027 non-null   float64\n",
      " 42  Attr43  7027 non-null   float64\n",
      " 43  Attr44  7027 non-null   float64\n",
      " 44  Attr45  6893 non-null   float64\n",
      " 45  Attr46  6996 non-null   float64\n",
      " 46  Attr47  6998 non-null   float64\n",
      " 47  Attr48  7024 non-null   float64\n",
      " 48  Attr49  7027 non-null   float64\n",
      " 49  Attr50  7002 non-null   float64\n",
      " 50  Attr51  7024 non-null   float64\n",
      " 51  Attr52  6998 non-null   float64\n",
      " 52  Attr53  6993 non-null   float64\n",
      " 53  Attr54  6993 non-null   float64\n",
      " 54  Attr55  7027 non-null   float64\n",
      " 55  Attr56  7027 non-null   float64\n",
      " 56  Attr57  7026 non-null   float64\n",
      " 57  Attr58  7027 non-null   float64\n",
      " 58  Attr59  7026 non-null   float64\n",
      " 59  Attr60  6892 non-null   float64\n",
      " 60  Attr61  7005 non-null   float64\n",
      " 61  Attr62  7027 non-null   float64\n",
      " 62  Attr63  6997 non-null   float64\n",
      " 63  Attr64  6993 non-null   float64\n",
      " 64  class   7027 non-null   object \n",
      "dtypes: float64(64), object(1)\n",
      "memory usage: 3.5+ MB\n"
     ]
    }
   ],
   "source": [
    "df1.info()"
   ]
  },
  {
   "cell_type": "code",
   "execution_count": 188,
   "metadata": {},
   "outputs": [
    {
     "data": {
      "text/plain": [
       "b'0'    6756\n",
       "b'1'     271\n",
       "Name: class, dtype: int64"
      ]
     },
     "execution_count": 188,
     "metadata": {},
     "output_type": "execute_result"
    }
   ],
   "source": [
    "df1['class'].value_counts()"
   ]
  },
  {
   "cell_type": "code",
   "execution_count": 189,
   "metadata": {},
   "outputs": [
    {
     "data": {
      "text/plain": [
       "Attr1      3\n",
       "Attr2      3\n",
       "Attr3      3\n",
       "Attr4     30\n",
       "Attr5      8\n",
       "          ..\n",
       "Attr61    22\n",
       "Attr62     0\n",
       "Attr63    30\n",
       "Attr64    34\n",
       "class      0\n",
       "Length: 65, dtype: int64"
      ]
     },
     "execution_count": 189,
     "metadata": {},
     "output_type": "execute_result"
    }
   ],
   "source": [
    "df1.isna().sum()"
   ]
  },
  {
   "cell_type": "code",
   "execution_count": 190,
   "metadata": {},
   "outputs": [
    {
     "data": {
      "text/plain": [
       "pandas.core.series.Series"
      ]
     },
     "execution_count": 190,
     "metadata": {},
     "output_type": "execute_result"
    }
   ],
   "source": [
    "att1 = df1['Attr1']\n",
    "#att1 = np.array(df1['Attr1'])\n",
    "type(att1)"
   ]
  },
  {
   "cell_type": "code",
   "execution_count": 191,
   "metadata": {},
   "outputs": [
    {
     "data": {
      "text/plain": [
       "0       0.200550\n",
       "1       0.209120\n",
       "2       0.248660\n",
       "3       0.081483\n",
       "4       0.187320\n",
       "          ...   \n",
       "7022    0.018371\n",
       "7023   -0.013359\n",
       "7024    0.006338\n",
       "7025   -0.041643\n",
       "7026    0.014946\n",
       "Name: Attr1, Length: 7027, dtype: float64"
      ]
     },
     "execution_count": 191,
     "metadata": {},
     "output_type": "execute_result"
    }
   ],
   "source": [
    "att1"
   ]
  },
  {
   "cell_type": "code",
   "execution_count": 192,
   "metadata": {},
   "outputs": [
    {
     "data": {
      "text/plain": [
       "(7027,)"
      ]
     },
     "execution_count": 192,
     "metadata": {},
     "output_type": "execute_result"
    }
   ],
   "source": [
    "att1.shape"
   ]
  },
  {
   "cell_type": "code",
   "execution_count": 193,
   "metadata": {},
   "outputs": [],
   "source": [
    "att1.dropna(inplace=True)"
   ]
  },
  {
   "cell_type": "code",
   "execution_count": 194,
   "metadata": {},
   "outputs": [
    {
     "data": {
      "text/plain": [
       "(7024,)"
      ]
     },
     "execution_count": 194,
     "metadata": {},
     "output_type": "execute_result"
    }
   ],
   "source": [
    "att1.shape"
   ]
  },
  {
   "cell_type": "code",
   "execution_count": 233,
   "metadata": {},
   "outputs": [
    {
     "data": {
      "text/plain": [
       "4.565179225356309"
      ]
     },
     "execution_count": 233,
     "metadata": {},
     "output_type": "execute_result"
    }
   ],
   "source": [
    "std = np.std(att1)\n",
    "std"
   ]
  },
  {
   "cell_type": "code",
   "execution_count": 234,
   "metadata": {},
   "outputs": [
    {
     "data": {
      "text/plain": [
       "0.03465990746013677"
      ]
     },
     "execution_count": 234,
     "metadata": {},
     "output_type": "execute_result"
    }
   ],
   "source": [
    "mean = np.mean(att1)\n",
    "mean"
   ]
  },
  {
   "cell_type": "code",
   "execution_count": 235,
   "metadata": {},
   "outputs": [
    {
     "data": {
      "text/plain": [
       "count    7024.000000\n",
       "mean        0.034660\n",
       "std         4.565504\n",
       "min      -256.890000\n",
       "25%         0.021182\n",
       "50%         0.075802\n",
       "75%         0.160268\n",
       "max        94.280000\n",
       "Name: Attr1, dtype: float64"
      ]
     },
     "execution_count": 235,
     "metadata": {},
     "output_type": "execute_result"
    }
   ],
   "source": [
    "att1.describe()"
   ]
  },
  {
   "cell_type": "code",
   "execution_count": 236,
   "metadata": {},
   "outputs": [
    {
     "data": {
      "image/png": "[encoded data removed]",
      "text/plain": [
       "<Figure size 432x288 with 1 Axes>"
      ]
     },
     "metadata": {
      "needs_background": "light"
     },
     "output_type": "display_data"
    }
   ],
   "source": [
    "range_ = (mean-1*std, mean+1*std) \n",
    "#plt.figure(figsize=(10,6))\n",
    "plt.hist(att1, bins=100, range=range_, density=True, log=True)\n",
    "#plt.hist(att1, bins=100, density=True, log=True)\n",
    "plt.title('Att1')\n",
    "plt.show()"
   ]
  },
  {
   "cell_type": "code",
   "execution_count": 225,
   "metadata": {},
   "outputs": [
    {
     "data": {
      "image/png": "[encoded data removed]",
      "text/plain": [
       "<Figure size 432x288 with 1 Axes>"
      ]
     },
     "metadata": {
      "needs_background": "light"
     },
     "output_type": "display_data"
    }
   ],
   "source": [
    "plt.boxplot(att1[:10])\n",
    "plt.show()"
   ]
  },
  {
   "cell_type": "code",
   "execution_count": 273,
   "metadata": {},
   "outputs": [],
   "source": [
    "Q3 = np.quantile(att1, 0.75)\n",
    "Q1 = np.quantile(att1, 0.25)\n",
    "IQR = Q3 - Q1\n",
    "\n",
    "lower_range = Q1 - 3 * IQR\n",
    "upper_range = Q3 + 3 * IQR"
   ]
  },
  {
   "cell_type": "code",
   "execution_count": 274,
   "metadata": {},
   "outputs": [
    {
     "name": "stdout",
     "output_type": "stream",
     "text": [
      "Q3: 0.1602675\n",
      "Q1: 0.02118225\n",
      "IQR: 0.13908525\n",
      "Median 0.075802\n",
      "Low: -0.39607349999999997\n",
      "Up: 0.57752325\n"
     ]
    }
   ],
   "source": [
    "print('Q3:', Q3)\n",
    "print('Q1:', Q1)\n",
    "print('IQR:', IQR)\n",
    "print('Median', np.median(att1))\n",
    "print('Low:', lower_range)\n",
    "print('Up:', upper_range)"
   ]
  },
  {
   "cell_type": "code",
   "execution_count": 275,
   "metadata": {},
   "outputs": [
    {
     "data": {
      "image/png": "[encoded data removed]",
      "text/plain": [
       "<Figure size 432x288 with 1 Axes>"
      ]
     },
     "metadata": {
      "needs_background": "light"
     },
     "output_type": "display_data"
    }
   ],
   "source": [
    "range_= (lower_range, upper_range)\n",
    "plt.hist(att1, bins=100, range=range_, density=False, log=True)\n",
    "plt.title('Att1')\n",
    "plt.show()"
   ]
  },
  {
   "cell_type": "code",
   "execution_count": null,
   "metadata": {},
   "outputs": [],
   "source": []
  },
  {
   "cell_type": "code",
   "execution_count": 211,
   "metadata": {},
   "outputs": [],
   "source": [
    "att60 = df1['Attr60']\n",
    "att60.dropna(inplace=True)\n",
    "std = np.std(att60)\n",
    "mean = np.mean(att60)"
   ]
  },
  {
   "cell_type": "code",
   "execution_count": 216,
   "metadata": {},
   "outputs": [
    {
     "data": {
      "text/plain": [
       "count    6.892000e+03\n",
       "mean     4.328830e+02\n",
       "std      2.612802e+04\n",
       "min      4.700000e-05\n",
       "25%      5.923950e+00\n",
       "50%      1.004050e+01\n",
       "75%      2.013900e+01\n",
       "max      2.137800e+06\n",
       "Name: Attr60, dtype: float64"
      ]
     },
     "execution_count": 216,
     "metadata": {},
     "output_type": "execute_result"
    }
   ],
   "source": [
    "att60.describe()"
   ]
  },
  {
   "cell_type": "code",
   "execution_count": 215,
   "metadata": {},
   "outputs": [
    {
     "data": {
      "text/plain": [
       "432.882957998552"
      ]
     },
     "execution_count": 215,
     "metadata": {},
     "output_type": "execute_result"
    }
   ],
   "source": [
    "mean"
   ]
  },
  {
   "cell_type": "code",
   "execution_count": 231,
   "metadata": {},
   "outputs": [
    {
     "data": {
      "image/png": "[encoded data removed]",
      "text/plain": [
       "<Figure size 432x288 with 1 Axes>"
      ]
     },
     "metadata": {
      "needs_background": "light"
     },
     "output_type": "display_data"
    }
   ],
   "source": [
    "range_ = (mean-1*std, mean+1*std) \n",
    "plt.hist(att1, bins=100, range=range_, density=True, log=True)\n",
    "plt.title('Att60')\n",
    "plt.show()"
   ]
  },
  {
   "cell_type": "code",
   "execution_count": 226,
   "metadata": {},
   "outputs": [
    {
     "data": {
      "text/plain": [
       "{'whiskers': [<matplotlib.lines.Line2D at 0x7fcb5bc05d60>,\n",
       "  <matplotlib.lines.Line2D at 0x7fcb5bc14100>],\n",
       " 'caps': [<matplotlib.lines.Line2D at 0x7fcb5bc14460>,\n",
       "  <matplotlib.lines.Line2D at 0x7fcb5bc147c0>],\n",
       " 'boxes': [<matplotlib.lines.Line2D at 0x7fcb5bc05a00>],\n",
       " 'medians': [<matplotlib.lines.Line2D at 0x7fcb5bc14b20>],\n",
       " 'fliers': [<matplotlib.lines.Line2D at 0x7fcb5bc14e20>],\n",
       " 'means': []}"
      ]
     },
     "execution_count": 226,
     "metadata": {},
     "output_type": "execute_result"
    },
    {
     "data": {
      "image/png": "[encoded data removed]",
      "text/plain": [
       "<Figure size 432x288 with 1 Axes>"
      ]
     },
     "metadata": {
      "needs_background": "light"
     },
     "output_type": "display_data"
    }
   ],
   "source": [
    "plt.boxplot(att60)"
   ]
  },
  {
   "cell_type": "code",
   "execution_count": 276,
   "metadata": {},
   "outputs": [],
   "source": [
    "Q3 = np.quantile(att60, 0.75)\n",
    "Q1 = np.quantile(att60, 0.25)\n",
    "IQR = Q3 - Q1\n",
    "\n",
    "lower_range = Q1 - 3 * IQR\n",
    "upper_range = Q3 + 3 * IQR"
   ]
  },
  {
   "cell_type": "code",
   "execution_count": 277,
   "metadata": {},
   "outputs": [
    {
     "name": "stdout",
     "output_type": "stream",
     "text": [
      "Q3: 20.139\n",
      "Q1: 5.92395\n",
      "IQR: 14.21505\n",
      "Median 10.040500000000002\n",
      "Low: -36.7212\n",
      "Up: 62.78415\n"
     ]
    }
   ],
   "source": [
    "print('Q3:', Q3)\n",
    "print('Q1:', Q1)\n",
    "print('IQR:', IQR)\n",
    "print('Median', np.median(att60))\n",
    "print('Low:', lower_range)\n",
    "print('Up:', upper_range)"
   ]
  },
  {
   "cell_type": "code",
   "execution_count": 278,
   "metadata": {},
   "outputs": [
    {
     "data": {
      "image/png": "[encoded data removed]",
      "text/plain": [
       "<Figure size 432x288 with 1 Axes>"
      ]
     },
     "metadata": {
      "needs_background": "light"
     },
     "output_type": "display_data"
    }
   ],
   "source": [
    "range_= (lower_range, upper_range)\n",
    "plt.hist(att60, bins=100, range=range_, density=False, log=True)\n",
    "plt.title('Att60')\n",
    "plt.show()"
   ]
  },
  {
   "cell_type": "code",
   "execution_count": 314,
   "metadata": {},
   "outputs": [],
   "source": [
    " filtered_data60 = df1.loc[(df1['Attr60']>lower_range) & (df1['Attr60']<upper_range)]"
   ]
  },
  {
   "cell_type": "code",
   "execution_count": 315,
   "metadata": {},
   "outputs": [
    {
     "data": {
      "text/plain": [
       "6352"
      ]
     },
     "execution_count": 315,
     "metadata": {},
     "output_type": "execute_result"
    }
   ],
   "source": [
    "len(filtered_data60)"
   ]
  },
  {
   "cell_type": "code",
   "execution_count": 288,
   "metadata": {},
   "outputs": [
    {
     "ename": "IndentationError",
     "evalue": "unindent does not match any outer indentation level (<tokenize>, line 21)",
     "output_type": "error",
     "traceback": [
      "\u001b[0;36m  File \u001b[0;32m\"<tokenize>\"\u001b[0;36m, line \u001b[0;32m21\u001b[0m\n\u001b[0;31m    else:\u001b[0m\n\u001b[0m    ^\u001b[0m\n\u001b[0;31mIndentationError\u001b[0m\u001b[0;31m:\u001b[0m unindent does not match any outer indentation level\n"
     ]
    }
   ],
   "source": [
    "# Removing the outliers\n",
    "def removeOutliers(data, col):\n",
    "    Q3 = np.quantile(data[col], 0.75)\n",
    "    Q1 = np.quantile(data[col], 0.25)\n",
    "    IQR = Q3 - Q1\n",
    " \n",
    "    print(\"IQR value for column %s is: %s\" % (col, IQR))\n",
    "    global outlier_free_list\n",
    "    global filtered_data\n",
    " \n",
    "    lower_range = Q1 - 1.5 * IQR\n",
    "    upper_range = Q3 + 1.5 * IQR\n",
    "    outlier_free_list = [x for x in data[col] if (\n",
    "        (x > lower_range) & (x < upper_range))]\n",
    "    filtered_data = data.loc[data[col].isin(outlier_free_list)]\n",
    " \n",
    " \n",
    "for i in data.columns:\n",
    "      if i == data.columns[0]:\n",
    "      removeOutliers(data, i)\n",
    "    else:\n",
    "      removeOutliers(filtered_data, i)\n",
    " \n",
    "  \n",
    "# Assigning filtered data back to our original variable\n",
    "data = filtered_data\n",
    "print(\"Shape of data after outlier removal is: \", data.shape)"
   ]
  },
  {
   "cell_type": "code",
   "execution_count": null,
   "metadata": {},
   "outputs": [],
   "source": []
  },
  {
   "cell_type": "code",
   "execution_count": 369,
   "metadata": {},
   "outputs": [],
   "source": [
    "def removeOutliers(df, col):\n",
    "    \n",
    "    data = df.copy()\n",
    "    \n",
    "    data.dropna(subset=[col], inplace=True)\n",
    "    \n",
    "    Q3 = np.quantile(data[col], 0.75)\n",
    "    Q1 = np.quantile(data[col], 0.25)\n",
    "    IQR = Q3 - Q1\n",
    " \n",
    "    print(\"IQR value for column %s is: %s\" % (col, IQR))\n",
    "    #global outlier_free_list\n",
    "    #global filtered_data\n",
    " \n",
    "    lower_range = Q1 - 1.5 * IQR\n",
    "    upper_range = Q3 + 1.5 * IQR\n",
    "    \n",
    "    #outlier_free_list = [x for x in data[col] if ((x > lower_range) & (x < upper_range))]\n",
    "    #filtered_data = data.loc[data[col].isin(outlier_free_list)]\n",
    "    \n",
    "    \n",
    "    filtered_data = data.loc[(data[col]>lower_range) & (data[col]<upper_range)]\n",
    "    \n",
    "    print('Counts')\n",
    "    print('Before:', len(data))\n",
    "    print('After', len(filtered_data))\n",
    "    print(\"Percentage left:\", 100*len(filtered_data)/len(data))\n",
    " "
   ]
  },
  {
   "cell_type": "code",
   "execution_count": 372,
   "metadata": {},
   "outputs": [
    {
     "name": "stdout",
     "output_type": "stream",
     "text": [
      "IQR value for column Attr1 is: 0.13908525\n",
      "Counts\n",
      "Before: 7024\n",
      "After 6531\n",
      "Percentage left: 92.98120728929385\n"
     ]
    }
   ],
   "source": [
    "removeOutliers(df1, 'Attr1')"
   ]
  },
  {
   "cell_type": "code",
   "execution_count": 358,
   "metadata": {},
   "outputs": [],
   "source": [
    "Q3 = np.quantile(df1['Attr30'], 0.75)"
   ]
  },
  {
   "cell_type": "code",
   "execution_count": 359,
   "metadata": {},
   "outputs": [
    {
     "data": {
      "text/plain": [
       "0.365635"
      ]
     },
     "execution_count": 359,
     "metadata": {},
     "output_type": "execute_result"
    }
   ],
   "source": [
    "Q3"
   ]
  },
  {
   "cell_type": "code",
   "execution_count": 380,
   "metadata": {},
   "outputs": [
    {
     "data": {
      "text/plain": [
       "Attr1      3\n",
       "Attr2      3\n",
       "Attr3      3\n",
       "Attr4     30\n",
       "Attr5      8\n",
       "          ..\n",
       "Attr61    22\n",
       "Attr62     0\n",
       "Attr63    30\n",
       "Attr64    34\n",
       "class      0\n",
       "Length: 65, dtype: int64"
      ]
     },
     "execution_count": 380,
     "metadata": {},
     "output_type": "execute_result"
    }
   ],
   "source": [
    "df1.isna().sum()"
   ]
  },
  {
   "cell_type": "code",
   "execution_count": 381,
   "metadata": {},
   "outputs": [
    {
     "data": {
      "text/plain": [
       "60"
      ]
     },
     "execution_count": 381,
     "metadata": {},
     "output_type": "execute_result"
    }
   ],
   "source": [
    "pd.options.display.max_rows"
   ]
  },
  {
   "cell_type": "code",
   "execution_count": 387,
   "metadata": {},
   "outputs": [],
   "source": [
    "pd.set_option(\"display.max_rows\", None)"
   ]
  },
  {
   "cell_type": "code",
   "execution_count": 388,
   "metadata": {},
   "outputs": [
    {
     "data": {
      "text/plain": [
       "Attr1        3\n",
       "Attr2        3\n",
       "Attr3        3\n",
       "Attr4       30\n",
       "Attr5        8\n",
       "Attr6        3\n",
       "Attr7        3\n",
       "Attr8       25\n",
       "Attr9        1\n",
       "Attr10       3\n",
       "Attr11      39\n",
       "Attr12      30\n",
       "Attr13       0\n",
       "Attr14       3\n",
       "Attr15       2\n",
       "Attr16      25\n",
       "Attr17      25\n",
       "Attr18       3\n",
       "Attr19       0\n",
       "Attr20       0\n",
       "Attr21    1622\n",
       "Attr22       3\n",
       "Attr23       0\n",
       "Attr24     124\n",
       "Attr25       3\n",
       "Attr26      25\n",
       "Attr27     311\n",
       "Attr28      34\n",
       "Attr29       3\n",
       "Attr30       0\n",
       "Attr31       0\n",
       "Attr32      38\n",
       "Attr33      30\n",
       "Attr34      25\n",
       "Attr35       3\n",
       "Attr36       3\n",
       "Attr37    2740\n",
       "Attr38       3\n",
       "Attr39       0\n",
       "Attr40      30\n",
       "Attr41      84\n",
       "Attr42       0\n",
       "Attr43       0\n",
       "Attr44       0\n",
       "Attr45     134\n",
       "Attr46      31\n",
       "Attr47      29\n",
       "Attr48       3\n",
       "Attr49       0\n",
       "Attr50      25\n",
       "Attr51       3\n",
       "Attr52      29\n",
       "Attr53      34\n",
       "Attr54      34\n",
       "Attr55       0\n",
       "Attr56       0\n",
       "Attr57       1\n",
       "Attr58       0\n",
       "Attr59       1\n",
       "Attr60     135\n",
       "Attr61      22\n",
       "Attr62       0\n",
       "Attr63      30\n",
       "Attr64      34\n",
       "class        0\n",
       "dtype: int64"
      ]
     },
     "execution_count": 388,
     "metadata": {},
     "output_type": "execute_result"
    }
   ],
   "source": [
    "df1.isna().sum()"
   ]
  },
  {
   "cell_type": "code",
   "execution_count": null,
   "metadata": {},
   "outputs": [],
   "source": []
  }
 ],
 "metadata": {
  "kernelspec": {
   "display_name": "Python 3",
   "language": "python",
   "name": "python3"
  },
  "language_info": {
   "codemirror_mode": {
    "name": "ipython",
    "version": 3
   },
   "file_extension": ".py",
   "mimetype": "text/x-python",
   "name": "python",
   "nbconvert_exporter": "python",
   "pygments_lexer": "ipython3",
   "version": "3.8.3"
  }
 },
 "nbformat": 4,
 "nbformat_minor": 4
}
